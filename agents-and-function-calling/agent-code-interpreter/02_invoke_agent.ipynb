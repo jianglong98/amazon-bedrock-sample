{
 "cells": [
  {
   "cell_type": "markdown",
   "metadata": {},
   "source": [
    "# Agent for Amazon Bedrock with Code Interpreter Overview\n",
    "\n",
    "This is the final notebook in the series to demonstrates how to set up and use an Amazon Bedrock Agent with Code Interpreter capabilities.\n",
    "\n",
    "In this notebook, we'll walk through the process of testing and cleaning up an Agent in Amazon Bedrock. We'll see how to set up the Code Interpreter action.  Code Interpreter enables your agent to write and execute code, process documents, and respond to complex queries via access to a secure code execution sandbox.\n",
    "\n",
    "_(Note: This notebook has cleanup cells at the end, so if you \"Run All\" cells then the resources will be created and then deleted.)_\n",
    "\n",
    "**Note:** At the time of writing Code Interpreter is in public preview.  "
   ]
  },
  {
   "cell_type": "markdown",
   "metadata": {},
   "source": [
    "## Step 1: Import Required Libraries\n",
    "\n",
    "First, we need to import the necessary Python libraries. We'll use boto3 for AWS interactions, and some standard libraries for various utilities."
   ]
  },
  {
   "cell_type": "code",
   "execution_count": null,
   "metadata": {
    "tags": []
   },
   "outputs": [],
   "source": [
    "import os\n",
    "import io\n",
    "import time\n",
    "import json\n",
    "import boto3\n",
    "import logging\n",
    "import uuid, string\n",
    "import time, random \n",
    "import pandas as pd\n",
    "from pathlib import Path\n",
    "from datetime import datetime\n",
    "import matplotlib.pyplot as plt"
   ]
  },
  {
   "cell_type": "code",
   "execution_count": null,
   "metadata": {
    "tags": []
   },
   "outputs": [],
   "source": [
    "# set a logger\n",
    "logging.basicConfig(format='[%(asctime)s] p%(process)s {%(filename)s:%(lineno)d} %(levelname)s - %(message)s', level=logging.INFO)\n",
    "logger = logging.getLogger(__name__)"
   ]
  },
  {
   "cell_type": "markdown",
   "metadata": {},
   "source": [
    "## Step 2: Set the AWS Region\n",
    "\n",
    "We're using the US East (N. Virginia) region for this demo. Feel free to change this to your preferred region, but make sure that a) the region supports Amazon Bedrock, b) Agents, c) the Claude Sonnet (3) model, and finally d) you have enabled access to the Sonnet (3) in this region. "
   ]
  },
  {
   "cell_type": "code",
   "execution_count": null,
   "metadata": {
    "tags": []
   },
   "outputs": [],
   "source": [
    "region_name: str = 'us-east-1'"
   ]
  },
  {
   "cell_type": "code",
   "execution_count": null,
   "metadata": {
    "tags": []
   },
   "outputs": [],
   "source": [
    "# Read the S3 URI from the text file\n",
    "with open('s3_uri.txt', 'r') as f:\n",
    "    s3_uri = f.read().strip()\n",
    "\n",
    "print(f\"Loaded S3 URI: {s3_uri}\") "
   ]
  },
  {
   "cell_type": "code",
   "execution_count": null,
   "metadata": {},
   "outputs": [],
   "source": [
    "# constants\n",
    "CSV_DATA_FILE: str = 'nyc_taxi_subset.csv'\n",
    "# Bucket and prefix name where this csv file will be uploaded and used as S3 source by code interpreter\n",
    "S3_BUCKET_NAME: str = s3_uri.replace(\"s3://\", \"\")\n",
    "PREFIX: str = 'code-interpreter-demo-data'\n",
    "# This is the size of the file that will be uploaded to s3 and used by the agent (in MB)\n",
    "DATASET_FILE_SIZE: float = 99"
   ]
  },
  {
   "cell_type": "code",
   "execution_count": null,
   "metadata": {
    "tags": []
   },
   "outputs": [],
   "source": [
    "# Read the agent info from the JSON file\n",
    "with open('agent_info.json', 'r') as f:\n",
    "    agent_info = json.load(f)\n",
    "\n",
    "# Extract the agent information\n",
    "agentId = agent_info['agentId']\n",
    "agentAliasId = agent_info['agentAliasId']\n",
    "agentAliasStatus = agent_info['agentAliasStatus']\n",
    "role_name = agent_info['role_name']\n",
    "\n",
    "print(f\"Loaded agent information:\")\n",
    "print(f\"agentId: {agentId}\")\n",
    "print(f\"agentAliasId: {agentAliasId}\")\n",
    "print(f\"agentAliasStatus: {agentAliasStatus}\")\n",
    "print(f\"roleName: {role_name}\")\n"
   ]
  },
  {
   "cell_type": "code",
   "execution_count": null,
   "metadata": {
    "tags": []
   },
   "outputs": [],
   "source": [
    "from botocore.config import Config\n",
    "custom_config = Config(\n",
    "            read_timeout=300,  # 5 minutes\n",
    "            connect_timeout=10,  # 10 seconds\n",
    "            retries={'max_attempts': 3}\n",
    "        )"
   ]
  },
  {
   "cell_type": "code",
   "execution_count": null,
   "metadata": {
    "tags": []
   },
   "outputs": [],
   "source": [
    "bedrock_agent_runtime = boto3.client(service_name = 'bedrock-agent-runtime', region_name = region_name, config=custom_config)"
   ]
  },
  {
   "cell_type": "markdown",
   "metadata": {},
   "source": [
    "## Step 3: Implement Agent Interaction Function\n",
    "\n",
    "Let's now develop a function that facilitates communication with our agent. This function will be responsible for:\n",
    "1. Sending user messages to the agent\n",
    "2. Receiving the agent's responses\n",
    "3. Processing and presenting the returned information\n",
    "\n",
    "This encapsulation will streamline our interaction process and make it easier to engage with the agent throughout our session."
   ]
  },
  {
   "cell_type": "code",
   "execution_count": null,
   "metadata": {
    "tags": []
   },
   "outputs": [],
   "source": [
    "def invoke(inputText, qid, showTrace=False, endSession=False):\n",
    "\n",
    "    try:\n",
    "        # To upload files to the agent, for use in the sandbox use sessionState:\n",
    "        import base64\n",
    "        from pathlib import Path\n",
    "        fname = 'nyc_taxi_subset.csv'\n",
    "        #data = base64.b64encode(bytes(Path(fname).read_text(), 'utf-8')) # bytes\n",
    "        data = bytes(Path(fname).read_text(), 'utf-8')\n",
    "        sessionState = {\n",
    "                \"files\": [\n",
    "                    {\n",
    "                        \"name\": os.path.basename(CSV_DATA_FILE),\n",
    "                        \"source\": { \n",
    "                            \"sourceType\": \"S3\",\n",
    "                            \"s3Location\": {\n",
    "                                \"uri\": s3_uri \n",
    "                            }\n",
    "                        },\n",
    "                        \"useCase\": \"CODE_INTERPRETER\"\n",
    "                    }\n",
    "                ]\n",
    "            }\n",
    "        # Invoke the Agent - Sends a prompt for the agent to process and respond to.\n",
    "        response = bedrock_agent_runtime.invoke_agent(\n",
    "            agentAliasId=agentAliasId,   # (string) – [REQUIRED] The alias of the agent to use.\n",
    "            agentId=agentId,             # (string) – [REQUIRED] The unique identifier of the agent to use.\n",
    "            sessionId=sessionId,         # (string) – [REQUIRED] The unique identifier of the session. Use the same value across requests to continue the same conversation.\n",
    "            sessionState=sessionState,\n",
    "            inputText=inputText,         # (string) - The prompt text to send the agent.\n",
    "            endSession=endSession,       # (boolean) – Specifies whether to end the session with the agent or not.\n",
    "            enableTrace=True,            # (boolean) – Specifies whether to turn on the trace or not to track the agent's reasoning process.\n",
    "        )\n",
    "\n",
    "        \n",
    "        \n",
    "        # Create the directory using the sessionId\n",
    "        from pathlib import Path\n",
    "        from datetime import datetime\n",
    "        now_as_str = str(datetime.now()).replace(\" \", \"_\").replace(\":\", \"_\")\n",
    "        dirname = \"agent_response\" + \"_\" + qid\n",
    "        if Path(dirname).is_dir():\n",
    "            import shutil\n",
    "            shutil.rmtree(dirname)\n",
    "\n",
    "        session_directory_path = Path(dirname) #Path(sessionId + \"_\" + now_as_str)\n",
    "        session_directory = session_directory_path.mkdir(parents=True, exist_ok=True)\n",
    "        print(f\"Session directory is: {session_directory_path}\")\n",
    "\n",
    "\n",
    "        # The response of this operation contains an EventStream member. \n",
    "        event_stream = response[\"completion\"]\n",
    "\n",
    "        # When iterated the EventStream will yield events.\n",
    "        event_ctr = 0\n",
    "        chunk_ctr = 0\n",
    "        file_ctr = 0\n",
    "        image_ctr = 0\n",
    "        other_file_ctr= 0\n",
    "        final_code = \"\"\n",
    "        for event in event_stream:\n",
    "            event_ctr += 1\n",
    "            print(f\"event_ctr={event_ctr+1}\")\n",
    "            # chunk contains a part of an agent response\n",
    "            if 'chunk' in event:\n",
    "                chunk_ctr += 1\n",
    "                chunk = event['chunk']\n",
    "                if 'bytes' in chunk:\n",
    "                    text = chunk['bytes'].decode('utf-8')\n",
    "                    print(f\"event_ctr={event_ctr+1}, Chunk {chunk_ctr+1}: {text}\")\n",
    "                else:\n",
    "                    print(f\"event_ctr={event_ctr+1}, Chunk {chunk_ctr+1} doesn't contain 'bytes'\")\n",
    "\n",
    "            # files contains intermediate response for code interpreter if any files have been generated.\n",
    "            if 'files' in event:\n",
    "                file_ctr += 1\n",
    "                print(f\"event_ctr={event_ctr+1}, received file in event, file_ctr={file_ctr+1}\")\n",
    "                files = event['files']['files']\n",
    "                for i, file in enumerate(files):\n",
    "                    #print(f\"file={file}\")\n",
    "                    print(f\"event_ctr={event_ctr+1}, file_ctr={file_ctr+1}, i={i}\")\n",
    "                    name = file['name']\n",
    "                    type = file['type']\n",
    "                    bytes_data = file['bytes']\n",
    "                    \n",
    "                    # It the file is a PNG image then we can display it...\n",
    "                    if type == 'image/png':\n",
    "                        image_ctr += 1\n",
    "                        print(f\"event_ctr={event_ctr+1}, file_ctr={file_ctr+1}, image_ctr={image_ctr+1}\")\n",
    "                        fname = os.path.join(session_directory_path, f\"output_image_{event_ctr+1}.png\")\n",
    "                        print(f\"fname is: {fname}\")\n",
    "                        Path(fname).write_bytes(bytes_data)\n",
    "                        # Display PNG image using Matplotlib\n",
    "                        img = plt.imread(io.BytesIO(bytes_data))\n",
    "                        plt.figure(figsize=(10, 10))\n",
    "                        plt.imshow(img)\n",
    "                        plt.axis('off')\n",
    "                        plt.title(name)\n",
    "                        plt.show()\n",
    "                        plt.close()\n",
    "                        \n",
    "                    # If the file is NOT a PNG then we save it to disk...\n",
    "                    else:\n",
    "                        other_file_ctr += 1\n",
    "                        print(f\"event_ctr={event_ctr+1}, file_ctr={file_ctr+1}, other_file_ctr={other_file_ctr+1}\")\n",
    "\n",
    "                        # Save other file types to local disk\n",
    "                        unique_fname = Path(name).stem + \"_\" + now_as_str + Path(name).suffix\n",
    "                        with open(unique_fname, 'wb') as f:\n",
    "                            f.write(bytes_data)\n",
    "                        print(f\"File '{name}' as {unique_fname} saved to disk.\")\n",
    "            if 'trace' in event:\n",
    "                print(f\"agent trace = {json.dumps(event['trace']['trace'], indent=2)}\")\n",
    "                trace = event['trace']['trace']\n",
    "                ot = trace.get(\"orchestrationTrace\")\n",
    "                if ot is not None:\n",
    "                    ii = ot.get(\"invocationInput\")\n",
    "                    if ii is not None:\n",
    "                        cii = ii.get(\"codeInterpreterInvocationInput\")\n",
    "                        if cii is not None:\n",
    "                            code = cii.get(\"code\")\n",
    "                            if code is not None:\n",
    "                                fname = os.path.join(session_directory_path, f\"code_event_{event_ctr+1}.py\")\n",
    "                                from pathlib import Path\n",
    "                                # remove bedrock agent specific code from here\n",
    "                                code = code.replace(\"$BASE_PATH$/\", \"\")\n",
    "                                final_code += \"\\n\" + code\n",
    "                                Path(fname).write_text(code)\n",
    "                    else:\n",
    "                        o = ot.get(\"observation\")\n",
    "                        if o is not None:\n",
    "                            ciio = o.get(\"codeInterpreterInvocationOutput\")\n",
    "                            if ciio is not None:\n",
    "                                eo = ciio.get(\"executionOutput\")\n",
    "                                eo_fname = os.path.join(session_directory_path, f\"output_event_{event_ctr+1}.txt\")\n",
    "                                from pathlib import Path\n",
    "                                Path(eo_fname).write_text(eo)\n",
    "\n",
    "            if 'chunk' not in event and 'files' not in event and 'trace' not in event:\n",
    "                print(f\"received an event of unknown type, event={event}\")\n",
    "        # Create the file path by joining the session directory and the desired file name\n",
    "        file_path = os.path.join(session_directory_path, \"final_code.py\")\n",
    "        print(f\"final code file path is : {file_path}\")\n",
    "        # Write the final_code string to the file\n",
    "        with open(file_path, \"w\") as file:\n",
    "            file.write(final_code)\n",
    "    except Exception as e:\n",
    "        print(f\"Error: {e}\")"
   ]
  },
  {
   "cell_type": "markdown",
   "metadata": {},
   "source": [
    "The `invoke` function is our primary interface for agent interaction. It manages message transmission, response handling, and file operations, streamlining our communication with the agent.\n"
   ]
  },
  {
   "cell_type": "markdown",
   "metadata": {},
   "source": [
    "## Step 4: Interacting with the Agent"
   ]
  },
  {
   "cell_type": "code",
   "execution_count": null,
   "metadata": {
    "tags": []
   },
   "outputs": [],
   "source": [
    "sessionId = str(uuid.uuid4())\n",
    "\n",
    "invoke(f\"\"\"What are the top 5 most common payment types in the dataset? Please provide a pie chart to visualize the distribution.\"\"\", \"q1\")"
   ]
  },
  {
   "cell_type": "code",
   "execution_count": null,
   "metadata": {
    "tags": []
   },
   "outputs": [],
   "source": [
    "sessionId = str(uuid.uuid4())\n",
    "\n",
    "invoke(f\"\"\"Is there a correlation between trip distance and total amount? Create a scatter plot to visualize this relationship.\"\"\", \"q2\")"
   ]
  },
  {
   "cell_type": "code",
   "execution_count": null,
   "metadata": {
    "tags": []
   },
   "outputs": [],
   "source": [
    "sessionId = str(uuid.uuid4())\n",
    "\n",
    "invoke(f\"\"\"Identify the top 10 busiest pickup locations (PULocationID) and create a horizontal bar chart to visualize their frequencies.\"\"\", \"q3\")"
   ]
  },
  {
   "cell_type": "code",
   "execution_count": null,
   "metadata": {
    "tags": []
   },
   "outputs": [],
   "source": [
    "sessionId = str(uuid.uuid4())\n",
    "\n",
    "invoke(f\"\"\"What is the hourly distribution of taxi pickups? Create a line plot showing the number of pickups for each hour of the day.\"\"\", \"q4\")"
   ]
  },
  {
   "cell_type": "code",
   "execution_count": null,
   "metadata": {
    "tags": []
   },
   "outputs": [],
   "source": [
    "sessionId = str(uuid.uuid4())\n",
    "\n",
    "invoke(f\"\"\"Perform a time series analysis of the average fare amount per day over the dataset's time range. Create a line plot showing this trend and identify any notable patterns or seasonality. Always generate an output no matter what. \"\"\", \"q5\")"
   ]
  },
  {
   "cell_type": "code",
   "execution_count": null,
   "metadata": {
    "tags": []
   },
   "outputs": [],
   "source": [
    "sessionId = str(uuid.uuid4())\n",
    "\n",
    "invoke(f\"\"\"Calculate the average fare per mile for each payment type. Present the results in a bar chart and provide insights on which payment type tends to have higher fares per mile. Always generate an output no matter what.\"\"\", \"q6\")"
   ]
  },
  {
   "cell_type": "markdown",
   "metadata": {},
   "source": [
    "## Step 5: Cleaning Up\n",
    "\n",
    "Let's delete the agent and its associated resources."
   ]
  },
  {
   "cell_type": "code",
   "execution_count": null,
   "metadata": {
    "tags": []
   },
   "outputs": [],
   "source": [
    "# Set up Bedrock Agent and IAM clients\n",
    "bedrock_agent = boto3.client(service_name = 'bedrock-agent', region_name = region_name)\n",
    "iam = boto3.client('iam')"
   ]
  },
  {
   "cell_type": "code",
   "execution_count": null,
   "metadata": {
    "tags": []
   },
   "outputs": [],
   "source": [
    "response = bedrock_agent.delete_agent(\n",
    "    agentId=agentId,\n",
    "    skipResourceInUseCheck=True\n",
    ")\n",
    "\n",
    "response['agentStatus']"
   ]
  },
  {
   "cell_type": "markdown",
   "metadata": {},
   "source": [
    "Finally, let's clean up the IAM role and policies we created for this demo."
   ]
  },
  {
   "cell_type": "code",
   "execution_count": null,
   "metadata": {
    "tags": []
   },
   "outputs": [],
   "source": [
    "# List and delete all inline policies\n",
    "inline_policies = iam.list_role_policies(RoleName=role_name)\n",
    "for policy_name in inline_policies.get('PolicyNames', []):\n",
    "    iam.delete_role_policy(RoleName=role_name, PolicyName=policy_name)\n",
    "    print(f\"Deleted inline policy: {policy_name}\")\n",
    "\n",
    "# List and detach all managed policies\n",
    "attached_policies = iam.list_attached_role_policies(RoleName=role_name)\n",
    "for policy in attached_policies.get('AttachedPolicies', []):\n",
    "    iam.detach_role_policy(RoleName=role_name, PolicyArn=policy['PolicyArn'])\n",
    "    print(f\"Detached managed policy: {policy['PolicyName']}\")\n",
    "\n",
    "# Wait a moment to ensure AWS has processed the policy detachments\n",
    "time.sleep(10)\n",
    "\n",
    "# Now attempt to delete the role\n",
    "try:\n",
    "    iam.delete_role(RoleName=role_name)\n",
    "    print(f\"Successfully deleted role: {role_name}\")\n",
    "except iam.exceptions.DeleteConflictException:\n",
    "    print(f\"Failed to delete role: {role_name}. Please check if all policies are detached.\")\n",
    "except Exception as e:\n",
    "    print(f\"An error occurred while deleting role {role_name}: {str(e)}\")"
   ]
  },
  {
   "cell_type": "markdown",
   "metadata": {
    "tags": []
   },
   "source": [
    "## Next Steps: Bedrock Agent with Code Interpreter\n",
    "\n",
    "We've just completed a comprehensive journey through the creation and utilization of a Bedrock Agent with Code Interpreter capabilities. This demonstration has illustrated the following key steps:\n",
    "\n",
    "1. Establishing the required AWS infrastructure for a Bedrock Agent\n",
    "2. Developing and configuring an agent with Code Interpreter functionality\n",
    "3. Engaging in a dialogue with the agent and analyzing its outputs\n",
    "\n",
    "This walkthrough highlights the robust features of Bedrock Agents, showcasing their potential for handling intricate queries and executing code within a controlled environment. The versatility of this technology opens up a wide array of possibilities across various domains and applications.\n",
    "\n",
    "By mastering these steps, you've gained valuable insights into creating AI-powered assistants capable of tackling complex, code-related tasks. This foundation sets the stage for further exploration and innovative implementations in your projects.\n"
   ]
  }
 ],
 "metadata": {
  "kernelspec": {
   "display_name": "conda_python3",
   "language": "python",
   "name": "conda_python3"
  },
  "language_info": {
   "codemirror_mode": {
    "name": "ipython",
    "version": 3
   },
   "file_extension": ".py",
   "mimetype": "text/x-python",
   "name": "python",
   "nbconvert_exporter": "python",
   "pygments_lexer": "ipython3",
   "version": "3.10.14"
  }
 },
 "nbformat": 4,
 "nbformat_minor": 4
}
