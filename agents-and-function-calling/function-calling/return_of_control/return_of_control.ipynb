{
 "cells": [
  {
   "cell_type": "markdown",
   "id": "089569ae-9348-4442-8e2a-941a8e5c00ac",
   "metadata": {},
   "source": [
    "# How to work with Return of Control (ROC)\n",
    "\n",
    "This notebook demonstrates how to work with Return of Control (ROC) and Amazon Bedrock. Return of control extends model capabilities by enabling it to ask clarifying questions in order to solicit necessary information from the requester and offloading the function execution to the application developer. This not only can increase robustness of the application, but also allows the developer to introduce additional business logic, if needed, between the model's choice to use a tool and the execution of that tool.\n",
    "\n",
    "This is a core functionality in agentic applications, which often work by identifying the requester's intent and working to fulfill it. \n",
    "\n",
    "## Overview\n",
    "- **Basic setup with one external function** We define an external function requiring multiple parameters and returning simple outputs. We allow the model to call this API through its ability to do [function calling](https://github.com/aws-samples/amazon-bedrock-samples/blob/release/v2/agents/function-calling/function_calling_with_converse/function_calling_with_converse.ipynb).\n",
    "- **Modifying the solution to enable Return of Control** Starting from the initial solution, we implement changes to allow the model to ask for additional information when it is unable to assign a value to every function parameter.\n",
    "- **Increasing flexibility with Amazon Bedrock Agents** We simplify the solution by leveraging Bedrock native functionality.\n",
    "- **Replicating the result in Langchain** We translate the solution to leverage a simple Langchain implementation.\n",
    "\n",
    "## Basic setup with one external function\n",
    "\n",
    "We set our tools through Python functions and use the HR agent as example. With this agent, a requester can validate the number of available vacation days of an employee and request a new vacation leave. "
   ]
  },
  {
   "cell_type": "code",
   "execution_count": 363,
   "id": "c603ce06-61d8-4236-92e8-883e0d49cfea",
   "metadata": {
    "tags": []
   },
   "outputs": [],
   "source": [
    "!pip install botocore --quiet\n",
    "!pip install boto3 --quiet\n",
    "!pip install pydantic --quiet\n",
    "!pip install langchain --quiet\n",
    "!pip install langchain-aws --upgrade --quiet"
   ]
  },
  {
   "cell_type": "markdown",
   "id": "403d11a0-1dc6-4176-9a8b-b5b9a9b478c1",
   "metadata": {},
   "source": [
    "### Generating the dataset\n",
    "\n",
    "We generate the dataset that will be used throughout this notebook. The data structured under the `employees`, `vacations` and `planned_vacations` tables. Our functions will interact with this data. We store it locally."
   ]
  },
  {
   "cell_type": "code",
   "execution_count": 364,
   "id": "6d68608c-5a14-4d9f-8d71-5b48335553e4",
   "metadata": {},
   "outputs": [],
   "source": [
    "# creating employee database to be used by lambda function\n",
    "import sqlite3\n",
    "import random\n",
    "from datetime import date, timedelta\n",
    "\n",
    "# Connect to the SQLite database (creates a new one if it doesn't exist)\n",
    "conn = sqlite3.connect('employee_database.db')\n",
    "c = conn.cursor()\n",
    "\n",
    "# Create the employees table\n",
    "c.execute('''CREATE TABLE IF NOT EXISTS employees\n",
    "                (employee_id INTEGER PRIMARY KEY AUTOINCREMENT, employee_name TEXT, employee_job_title TEXT, employee_start_date TEXT, employee_employment_status TEXT)''')\n",
    "\n",
    "# Create the vacations table\n",
    "c.execute('''CREATE TABLE IF NOT EXISTS vacations\n",
    "                (employee_id INTEGER, year INTEGER, employee_total_vacation_days INTEGER, employee_vacation_days_taken INTEGER, employee_vacation_days_available INTEGER, FOREIGN KEY(employee_id) REFERENCES employees(employee_id))''')\n",
    "\n",
    "# Create the planned_vacations table\n",
    "c.execute('''CREATE TABLE IF NOT EXISTS planned_vacations\n",
    "                (employee_id INTEGER, vacation_start_date TEXT, vacation_end_date TEXT, vacation_days_taken INTEGER, FOREIGN KEY(employee_id) REFERENCES employees(employee_id))''')\n",
    "\n",
    "# Generate some random data for 10 employees\n",
    "employee_names = ['John Doe', 'Jane Smith', 'Bob Johnson', 'Alice Williams', 'Tom Brown', 'Emily Davis', 'Michael Wilson', 'Sarah Taylor', 'David Anderson', 'Jessica Thompson']\n",
    "job_titles = ['Manager', 'Developer', 'Designer', 'Analyst', 'Accountant', 'Sales Representative']\n",
    "employment_statuses = ['Active', 'Inactive']\n",
    "\n",
    "for i in range(10):\n",
    "    name = employee_names[i]\n",
    "    job_title = random.choice(job_titles)\n",
    "    start_date = date(2015 + random.randint(0, 7), random.randint(1, 12), random.randint(1, 28)).strftime('%Y-%m-%d')\n",
    "    employment_status = random.choice(employment_statuses)\n",
    "    c.execute(\"INSERT INTO employees (employee_name, employee_job_title, employee_start_date, employee_employment_status) VALUES (?, ?, ?, ?)\", (name, job_title, start_date, employment_status))\n",
    "    employee_id = c.lastrowid\n",
    "\n",
    "    # Generate vacation data for the current employee\n",
    "    for year in range(date.today().year, date.today().year - 3, -1):\n",
    "        total_vacation_days = random.randint(10, 30)\n",
    "        days_taken = random.randint(0, total_vacation_days)\n",
    "        days_available = total_vacation_days - days_taken\n",
    "        c.execute(\"INSERT INTO vacations (employee_id, year, employee_total_vacation_days, employee_vacation_days_taken, employee_vacation_days_available) VALUES (?, ?, ?, ?, ?)\", (employee_id, year, total_vacation_days, days_taken, days_available))\n",
    "\n",
    "        # Generate some planned vacations for the current employee and year\n",
    "        num_planned_vacations = random.randint(0, 3)\n",
    "        for _ in range(num_planned_vacations):\n",
    "            start_date = date(year, random.randint(1, 12), random.randint(1, 28)).strftime('%Y-%m-%d')\n",
    "            end_date = (date(int(start_date[:4]), int(start_date[5:7]), int(start_date[8:])) + timedelta(days=random.randint(1, 14))).strftime('%Y-%m-%d')\n",
    "            days_taken = (date(int(end_date[:4]), int(end_date[5:7]), int(end_date[8:])) - date(int(start_date[:4]), int(start_date[5:7]), int(start_date[8:])))\n",
    "            c.execute(\"INSERT INTO planned_vacations (employee_id, vacation_start_date, vacation_end_date, vacation_days_taken) VALUES (?, ?, ?, ?)\", (employee_id, start_date, end_date, days_taken.days))\n",
    "\n",
    "# Commit the changes and close the connection\n",
    "conn.commit()\n",
    "conn.close()"
   ]
  },
  {
   "cell_type": "markdown",
   "id": "b7f3bc3b-4db6-44bb-8d8e-3ea58e811111",
   "metadata": {},
   "source": [
    "### Function calling with the Converse API \n",
    "Although this example leverages Claude 3 Sonnet, Bedrock supports many other models. The full list of models and supported features can be found [here](https://docs.aws.amazon.com/bedrock/latest/userguide/conversation-inference.html). The models are invoked via `bedrock-runtime`."
   ]
  },
  {
   "cell_type": "code",
   "execution_count": 365,
   "id": "63e79a29-bca6-4b61-b7df-6a7f6682e548",
   "metadata": {},
   "outputs": [],
   "source": [
    "import json\n",
    "from datetime import datetime\n",
    "from typing import Any, Dict, List\n",
    "import inspect\n",
    "import boto3\n",
    "from pydantic import BaseModel, Field, create_model\n",
    "\n",
    "# Claude 3 Sonnet model id\n",
    "modelId = 'anthropic.claude-3-sonnet-20240229-v1:0'\n",
    "\n",
    "region = 'us-east-1'\n",
    "\n",
    "bedrock = boto3.client(\n",
    "    service_name = 'bedrock-runtime',\n",
    "    region_name = region,\n",
    "    )"
   ]
  },
  {
   "cell_type": "markdown",
   "id": "c1fdd4bb-357c-4933-95de-3b4c315454c0",
   "metadata": {},
   "source": [
    "#### Tool as Pydantic definition\n",
    "\n",
    "We rely on a Pydantic-based helper function to translate the tool configuration in a way that ensures we avoid potential mistakes when defining our tool config schema in a JSON dictionary."
   ]
  },
  {
   "cell_type": "code",
   "execution_count": 366,
   "id": "28bd2832-4757-4380-8ac6-b6ceef94a602",
   "metadata": {},
   "outputs": [],
   "source": [
    "def tool(name, description):\n",
    "    def decorator(func):\n",
    "        # defining our model inheriting from pydantic.BaseModel and define fields as annotated attributes\n",
    "        input_model = create_model(\n",
    "            func.__name__ + \"_input\",\n",
    "            **{\n",
    "                name: (param.annotation, param.default)\n",
    "                for name, param in inspect.signature(func).parameters.items()\n",
    "                if param.default is not inspect.Parameter.empty\n",
    "            },\n",
    "        )\n",
    "\n",
    "        # bedrock tool schema\n",
    "        func.bedrock_schema = {\n",
    "            'toolSpec': {\n",
    "                'name': name,\n",
    "                'description': description,\n",
    "                'inputSchema': {\n",
    "                    'json': input_model.schema()\n",
    "                }\n",
    "            }\n",
    "        }\n",
    "        return func\n",
    "\n",
    "    return decorator"
   ]
  },
  {
   "cell_type": "markdown",
   "id": "afed5ffc-a858-4708-92dc-7cf31d8f955c",
   "metadata": {},
   "source": [
    "We define our tools under `ToolsList`."
   ]
  },
  {
   "cell_type": "code",
   "execution_count": 367,
   "id": "2a841c22-6338-4b05-8876-8e25cac1a33f",
   "metadata": {},
   "outputs": [],
   "source": [
    "class ToolsList:\n",
    "    @tool(\n",
    "        name=\"get_available_vacations_days\",\n",
    "        description=\"Gets the number of available vacation days remaining.\"\n",
    "    )\n",
    "    def get_available_vacations_days(self, employee_id: str = Field(..., description=\"Employee identifier\")):\n",
    "        # Connect to the SQLite database\n",
    "        conn = sqlite3.connect('employee_database.db')\n",
    "        c = conn.cursor()\n",
    "    \n",
    "        if employee_id:\n",
    "    \n",
    "            # Fetch the available vacation days for the employee\n",
    "            c.execute(\"\"\"\n",
    "                SELECT employee_vacation_days_available\n",
    "                FROM vacations\n",
    "                WHERE employee_id = ?\n",
    "                ORDER BY year DESC\n",
    "                LIMIT 1\n",
    "            \"\"\", (employee_id,))\n",
    "    \n",
    "            available_vacation_days = c.fetchone()\n",
    "            print(available_vacation_days)\n",
    "            if available_vacation_days:\n",
    "                available_vacation_days = available_vacation_days[0]  # Unpack the tuple\n",
    "                print(f\"Available vacation days for employed_id {employee_id}: {available_vacation_days}\")\n",
    "                conn.close()\n",
    "                return available_vacation_days\n",
    "            else:\n",
    "                return_msg = f\"No vacation data found for employed_id {employee_id}\"\n",
    "                print(return_msg)\n",
    "                conn.close()\n",
    "                return return_msg\n",
    "        else:\n",
    "            conn.close()\n",
    "            raise Exception(f\"No employeed id provided\")\n",
    "        \n",
    "    @tool(\n",
    "        name=\"reserve_vacation_time\",\n",
    "        description=\"Creates an entry to reserve vacation time.\"\n",
    "    )  \n",
    "    def reserve_vacation_time(self,\n",
    "                              employee_id: str = Field(..., description=\"Employee identifier\"),\n",
    "                              start_date: str = Field(..., description=\"Start date for the vacation\"),\n",
    "                              end_date: str = Field(..., description=\"End date for the vacation\")):\n",
    "        # Connect to the SQLite database\n",
    "        conn = sqlite3.connect('employee_database.db')\n",
    "        c = conn.cursor()\n",
    "        try:\n",
    "            # Calculate the number of vacation days\n",
    "            start_date = datetime.strptime(start_date, '%Y-%m-%d')\n",
    "            end_date = datetime.strptime(end_date, '%Y-%m-%d')\n",
    "            vacation_days = (end_date - start_date).days + 1\n",
    "    \n",
    "            # Get the current year\n",
    "            current_year = start_date.year\n",
    "    \n",
    "            # Check if the employee exists\n",
    "            c.execute(\"SELECT * FROM employees WHERE employee_id = ?\", (employee_id,))\n",
    "            employee = c.fetchone()\n",
    "            if employee is None:\n",
    "                return_msg = f\"Employee with ID {employee_id} does not exist.\"\n",
    "                print(return_msg)\n",
    "                conn.close()\n",
    "                return return_msg\n",
    "    \n",
    "            # Check if the vacation days are available for the employee in the current year\n",
    "            c.execute(\"SELECT employee_vacation_days_available FROM vacations WHERE employee_id = ? AND year = ?\", (employee_id, current_year))\n",
    "            available_days = c.fetchone()\n",
    "            if available_days is None or available_days[0] < vacation_days:\n",
    "                return_msg = f\"Employee with ID {employee_id} does not have enough vacation days available for the requested period.\"\n",
    "                print(return_msg)\n",
    "                conn.close()\n",
    "                return return_msg\n",
    "    \n",
    "            # Insert the new vacation into the planned_vacations table\n",
    "            c.execute(\"INSERT INTO planned_vacations (employee_id, vacation_start_date, vacation_end_date, vacation_days_taken) VALUES (?, ?, ?, ?)\", (employee_id, start_date, end_date, vacation_days))\n",
    "    \n",
    "            # Update the vacations table with the new vacation days taken\n",
    "            c.execute(\"UPDATE vacations SET employee_vacation_days_taken = employee_vacation_days_taken + ?, employee_vacation_days_available = employee_vacation_days_available - ? WHERE employee_id = ? AND year = ?\", (vacation_days, vacation_days, employee_id, current_year))\n",
    "    \n",
    "            conn.commit()\n",
    "            print(f\"Vacation booked successfully for employee with ID {employee_id} from {start_date} to {end_date}.\")\n",
    "            # Close the database connection\n",
    "            conn.close()\n",
    "            return f\"Vacation booked successfully for employee with ID {employee_id} from {start_date} to {end_date}.\"\n",
    "        except Exception as e:\n",
    "            conn.rollback()\n",
    "            # Close the database connection\n",
    "            conn.close()\n",
    "            raise Exception(f\"Error occurred: {e}\")"
   ]
  },
  {
   "cell_type": "markdown",
   "id": "f75a88f0-232d-40cb-9149-b27834b59f44",
   "metadata": {},
   "source": [
    "Using the Pydantic definition lets us to generalize `toolConfig` to any tool supplied to `ToolsList`. This in turn is passed to the Converse API to define the external functions the model has access to."
   ]
  },
  {
   "cell_type": "code",
   "execution_count": 368,
   "id": "93385e6f-5809-4945-b17f-204b67f838ba",
   "metadata": {},
   "outputs": [],
   "source": [
    "toolConfig = {\n",
    "    'tools': [tool.bedrock_schema for tool in ToolsList.__dict__.values() if hasattr(tool, 'bedrock_schema')],\n",
    "    'toolChoice': {'auto': {}}\n",
    "}"
   ]
  },
  {
   "cell_type": "markdown",
   "id": "16c0df43-4cfd-4646-81dd-a3d6a4e0dcaa",
   "metadata": {},
   "source": [
    "This function simply calls the Converse API given some `toolConfig` and returns the response."
   ]
  },
  {
   "cell_type": "code",
   "execution_count": 369,
   "id": "ef9673f9-9f1f-42c2-80dc-b0aeb373e671",
   "metadata": {},
   "outputs": [],
   "source": [
    "#Function for caling the Bedrock Converse API...\n",
    "def converse_with_tools(messages, system='', toolConfig=toolConfig):\n",
    "    response = bedrock.converse(\n",
    "        modelId=modelId,\n",
    "        system=system,\n",
    "        messages=messages,\n",
    "        toolConfig=toolConfig\n",
    "    )\n",
    "    return response"
   ]
  },
  {
   "cell_type": "markdown",
   "id": "ce6dd22c-b88f-415c-8d7c-da311d746b81",
   "metadata": {},
   "source": [
    "The following `converse` method supports a single-turn conversation flow. The model is initially prompted by the requester where it determines if it should call a tool and returns the call in `toolUse`. Once the tool is called, its result is returned in `toolResult` and appended to the list of previous messages in the conversation.\n",
    "\n",
    "The model is then prompted again with the result of the tool to provide and answer to the requester."
   ]
  },
  {
   "cell_type": "code",
   "execution_count": 370,
   "id": "517ec153-39c7-4da7-97d1-63eaccf32e40",
   "metadata": {},
   "outputs": [],
   "source": [
    "def converse(tool_class, prompt, system='', toolConfig=None, modelId=modelId):\n",
    "    # invoke model with the initial query\n",
    "    messages = [{\"role\": \"user\", \"content\": [{\"text\": prompt}]}]\n",
    "    print(\"Invoking model...\")\n",
    "    output = converse_with_tools(messages, system, toolConfig)\n",
    "    print(output)\n",
    "    messages.append(output['output']['message'])\n",
    "    print(\"Got output from model...\")\n",
    "    # function to call including name and values for the parameters\n",
    "    function_calling = [c['toolUse'] for c in output['output']['message']['content'] if 'toolUse' in c]\n",
    "    if function_calling:\n",
    "        tool_result_message = {\"role\": \"user\", \"content\": []}\n",
    "        # Loop through if more than one tool to call\n",
    "        for function in function_calling:\n",
    "            print(\"Function calling - Calling tool...\")\n",
    "            tool_name = function['name']\n",
    "            tool_args = function['input'] or {}\n",
    "            tool_response = json.dumps(getattr(tool_class, tool_name)(**tool_args))\n",
    "            print(\"Function calling - Got tool response...\")\n",
    "            # add the result of the tool to messages\n",
    "            tool_result_message['content'].append({\n",
    "                'toolResult': {\n",
    "                    'toolUseId': function['toolUseId'],\n",
    "                    'content': [{\"text\": tool_response}]\n",
    "                }\n",
    "            })\n",
    "        messages.append(tool_result_message)\n",
    "        print(\"Function calling - Calling model with result...\")\n",
    "        # prompt model with the original query and the result of the tool calls\n",
    "        output = converse_with_tools(messages, system, toolConfig)\n",
    "    return messages, output"
   ]
  },
  {
   "cell_type": "markdown",
   "id": "2487cf09-403e-43f0-9974-78fa7758afa2",
   "metadata": {},
   "source": [
    "We define the system prompt governing the model's overall behaviour and supply the model with a description of the `reserve_vacation_time` tool."
   ]
  },
  {
   "cell_type": "code",
   "execution_count": 371,
   "id": "2e55aa4f-0ce8-42ab-8c21-d19c3b925d71",
   "metadata": {},
   "outputs": [],
   "source": [
    "# System prompt building an optional chain of thought response\n",
    "system_prompt = \"\"\"You're provided with a tool that can book the vacation for a given employee 'reserve_vacation_time';\n",
    "    only use the tool if required. You can call the tool multiple times in the same response if required. \\\n",
    "    Don't make reference to the tools in your final answer.\"\"\"\n",
    "system_prompt = [{\"text\": system_prompt}]"
   ]
  },
  {
   "cell_type": "markdown",
   "id": "8cbcf83e-2e85-4919-8ec4-cd2947e12628",
   "metadata": {},
   "source": [
    "When requesting to reserve a vacation with the necessary parameters, the model calls the tool and returns the output correctly."
   ]
  },
  {
   "cell_type": "code",
   "execution_count": 372,
   "id": "4c7b9692-8496-4edd-b07e-24b6e74f1929",
   "metadata": {},
   "outputs": [
    {
     "name": "stdout",
     "output_type": "stream",
     "text": [
      "Invoking model...\n",
      "{'ResponseMetadata': {'RequestId': '930822da-fb2c-4e29-a318-b58abfe22ea9', 'HTTPStatusCode': 200, 'HTTPHeaders': {'date': 'Wed, 14 Aug 2024 17:16:28 GMT', 'content-type': 'application/json', 'content-length': '439', 'connection': 'keep-alive', 'x-amzn-requestid': '930822da-fb2c-4e29-a318-b58abfe22ea9'}, 'RetryAttempts': 0}, 'output': {'message': {'role': 'assistant', 'content': [{'text': 'Here is how to reserve a vacation for employee ID 1 from June 3, 2024 to June 4, 2024:'}, {'toolUse': {'toolUseId': 'tooluse_utPMaGljQ8ev6BVSwC1JNg', 'name': 'reserve_vacation_time', 'input': {'employee_id': '1', 'start_date': '2024-06-03', 'end_date': '2024-06-04'}}}]}}, 'stopReason': 'tool_use', 'usage': {'inputTokens': 506, 'outputTokens': 137, 'totalTokens': 643}, 'metrics': {'latencyMs': 3426}}\n",
      "Got output from model...\n",
      "Function calling - Calling tool...\n",
      "Vacation booked successfully for employee with ID 1 from 2024-06-03 00:00:00 to 2024-06-04 00:00:00.\n",
      "Function calling - Got tool response...\n",
      "Function calling - Calling model with result...\n",
      "{'ResponseMetadata': {'RequestId': '23104b78-0225-4bac-a330-890915a57326', 'HTTPStatusCode': 200, 'HTTPHeaders': {'date': 'Wed, 14 Aug 2024 17:16:29 GMT', 'content-type': 'application/json', 'content-length': '221', 'connection': 'keep-alive', 'x-amzn-requestid': '23104b78-0225-4bac-a330-890915a57326'}, 'RetryAttempts': 0}, 'output': {'message': {'role': 'assistant', 'content': [{'text': 'Let me know if you need anything else!'}]}}, 'stopReason': 'end_turn', 'usage': {'inputTokens': 696, 'outputTokens': 13, 'totalTokens': 709}, 'metrics': {'latencyMs': 637}}\n",
      "Output:\n",
      "{'message': {'role': 'assistant', 'content': [{'text': 'Let me know if you need anything else!'}]}}\n",
      "\n",
      "Messages:\n",
      "[\n",
      "  {\n",
      "    \"role\": \"user\",\n",
      "    \"content\": [\n",
      "      {\n",
      "        \"text\": \"reserve a vacation with employee ID 1 from the 3rd of June 2024 to the 4th of June 2024.\"\n",
      "      }\n",
      "    ]\n",
      "  },\n",
      "  {\n",
      "    \"role\": \"assistant\",\n",
      "    \"content\": [\n",
      "      {\n",
      "        \"text\": \"Here is how to reserve a vacation for employee ID 1 from June 3, 2024 to June 4, 2024:\"\n",
      "      },\n",
      "      {\n",
      "        \"toolUse\": {\n",
      "          \"toolUseId\": \"tooluse_utPMaGljQ8ev6BVSwC1JNg\",\n",
      "          \"name\": \"reserve_vacation_time\",\n",
      "          \"input\": {\n",
      "            \"employee_id\": \"1\",\n",
      "            \"start_date\": \"2024-06-03\",\n",
      "            \"end_date\": \"2024-06-04\"\n",
      "          }\n",
      "        }\n",
      "      }\n",
      "    ]\n",
      "  },\n",
      "  {\n",
      "    \"role\": \"user\",\n",
      "    \"content\": [\n",
      "      {\n",
      "        \"toolResult\": {\n",
      "          \"toolUseId\": \"tooluse_utPMaGljQ8ev6BVSwC1JNg\",\n",
      "          \"content\": [\n",
      "            {\n",
      "              \"text\": \"\\\"Vacation booked successfully for employee with ID 1 from 2024-06-03 00:00:00 to 2024-06-04 00:00:00.\\\"\"\n",
      "            }\n",
      "          ]\n",
      "        }\n",
      "      }\n",
      "    ]\n",
      "  }\n",
      "]\n",
      "\n"
     ]
    }
   ],
   "source": [
    "# prompt to reserve a vacation between given dates\n",
    "prompt = \"reserve a vacation with employee ID 1 from the 3rd of June 2024 to the 4th of June 2024.\"\n",
    "\n",
    "messages, output = converse(ToolsList(), prompt, system_prompt, toolConfig)\n",
    "print(f\"Output:\\n{output['output']}\\n\")\n",
    "print(f\"Messages:\\n{json.dumps(messages, indent=2, ensure_ascii=False)}\\n\")"
   ]
  },
  {
   "cell_type": "markdown",
   "id": "74aa19b7-9b3f-4409-9526-94b8308828c8",
   "metadata": {},
   "source": [
    "However, given the previous system prompt, the model quickly defaults to random `start_date` and `end_date` when those parameters are not supplied. This may not be expected behaviour for many use cases."
   ]
  },
  {
   "cell_type": "code",
   "execution_count": 373,
   "id": "c408ef9f-4820-4901-abd2-9366244a3383",
   "metadata": {},
   "outputs": [
    {
     "name": "stdout",
     "output_type": "stream",
     "text": [
      "Invoking model...\n",
      "{'ResponseMetadata': {'RequestId': '76fb7203-958d-4717-8e57-1ee66cba80ba', 'HTTPStatusCode': 200, 'HTTPHeaders': {'date': 'Wed, 14 Aug 2024 17:16:36 GMT', 'content-type': 'application/json', 'content-length': '476', 'connection': 'keep-alive', 'x-amzn-requestid': '76fb7203-958d-4717-8e57-1ee66cba80ba'}, 'RetryAttempts': 0}, 'output': {'message': {'role': 'assistant', 'content': [{'text': 'To reserve a vacation for the employee with ID 1, we can use the `reserve_vacation_time` tool with the required parameters:'}, {'toolUse': {'toolUseId': 'tooluse_G_s3OV7US1qU6vHm5guAeQ', 'name': 'reserve_vacation_time', 'input': {'employee_id': '1', 'start_date': '2023-06-01', 'end_date': '2023-06-14'}}}]}}, 'stopReason': 'tool_use', 'usage': {'inputTokens': 483, 'outputTokens': 135, 'totalTokens': 618}, 'metrics': {'latencyMs': 7032}}\n",
      "Got output from model...\n",
      "Function calling - Calling tool...\n",
      "Employee with ID 1 does not have enough vacation days available for the requested period.\n",
      "Function calling - Got tool response...\n",
      "Function calling - Calling model with result...\n",
      "{'ResponseMetadata': {'RequestId': '46bb0754-2daf-47f3-a4a7-c45099028d0e', 'HTTPStatusCode': 200, 'HTTPHeaders': {'date': 'Wed, 14 Aug 2024 17:16:37 GMT', 'content-type': 'application/json', 'content-length': '378', 'connection': 'keep-alive', 'x-amzn-requestid': '46bb0754-2daf-47f3-a4a7-c45099028d0e'}, 'RetryAttempts': 0}, 'output': {'message': {'role': 'assistant', 'content': [{'text': 'Let me check how many vacation days the employee has available first:'}, {'toolUse': {'toolUseId': 'tooluse_2hT2J7qDTXGNcU4t-sXrlw', 'name': 'get_available_vacations_days', 'input': {'employee_id': '1'}}}]}}, 'stopReason': 'tool_use', 'usage': {'inputTokens': 647, 'outputTokens': 75, 'totalTokens': 722}, 'metrics': {'latencyMs': 1647}}\n",
      "Output:\n",
      "{'message': {'role': 'assistant', 'content': [{'text': 'Let me check how many vacation days the employee has available first:'}, {'toolUse': {'toolUseId': 'tooluse_2hT2J7qDTXGNcU4t-sXrlw', 'name': 'get_available_vacations_days', 'input': {'employee_id': '1'}}}]}}\n",
      "\n",
      "Messages:\n",
      "[\n",
      "  {\n",
      "    \"role\": \"user\",\n",
      "    \"content\": [\n",
      "      {\n",
      "        \"text\": \"reserve a vacation with employee ID 1\"\n",
      "      }\n",
      "    ]\n",
      "  },\n",
      "  {\n",
      "    \"role\": \"assistant\",\n",
      "    \"content\": [\n",
      "      {\n",
      "        \"text\": \"To reserve a vacation for the employee with ID 1, we can use the `reserve_vacation_time` tool with the required parameters:\"\n",
      "      },\n",
      "      {\n",
      "        \"toolUse\": {\n",
      "          \"toolUseId\": \"tooluse_G_s3OV7US1qU6vHm5guAeQ\",\n",
      "          \"name\": \"reserve_vacation_time\",\n",
      "          \"input\": {\n",
      "            \"employee_id\": \"1\",\n",
      "            \"start_date\": \"2023-06-01\",\n",
      "            \"end_date\": \"2023-06-14\"\n",
      "          }\n",
      "        }\n",
      "      }\n",
      "    ]\n",
      "  },\n",
      "  {\n",
      "    \"role\": \"user\",\n",
      "    \"content\": [\n",
      "      {\n",
      "        \"toolResult\": {\n",
      "          \"toolUseId\": \"tooluse_G_s3OV7US1qU6vHm5guAeQ\",\n",
      "          \"content\": [\n",
      "            {\n",
      "              \"text\": \"\\\"Employee with ID 1 does not have enough vacation days available for the requested period.\\\"\"\n",
      "            }\n",
      "          ]\n",
      "        }\n",
      "      }\n",
      "    ]\n",
      "  }\n",
      "]\n",
      "\n"
     ]
    }
   ],
   "source": [
    "# prompt to reserve a vacation for a given employee. Information is incomplete for the request.\n",
    "prompt = \"reserve a vacation with employee ID 1\"\n",
    "\n",
    "messages, output = converse(ToolsList(), prompt, system_prompt, toolConfig)\n",
    "print(f\"Output:\\n{output['output']}\\n\")\n",
    "print(f\"Messages:\\n{json.dumps(messages, indent=2, ensure_ascii=False)}\\n\")"
   ]
  },
  {
   "cell_type": "markdown",
   "id": "ce9b88d9-bb51-4622-91d0-a4f8f546123e",
   "metadata": {},
   "source": [
    "## Modifying the solution to allow the model to ask for more information"
   ]
  },
  {
   "cell_type": "markdown",
   "id": "877c2916-295b-430b-8277-603da7fc4561",
   "metadata": {},
   "source": [
    "Return of Control is primairly implemented in the model's system prompt. As we will see later in this notebook, both Amazon Bedrock and popular prompt orchestration libraries like Langchain offer abstractions to make this task easier. The target model behaviour in our case can be described by the following diagram:\n",
    "\n",
    "![basic tool call](./assets/function_calling_roc.png)\n",
    "\n",
    "In the prompt below, we present the model with `reserve_vacation_time` initially available at its disposal. We continue by explaining that all information must be present to use the tool and to not use the tool if information is incomplete. As this part of the prompt has a strong impact on overall behaviour, we suggest experimenting with it and seeing how the model responds."
   ]
  },
  {
   "cell_type": "code",
   "execution_count": 374,
   "id": "0a545aa1-3973-48a7-a88c-85c722086454",
   "metadata": {},
   "outputs": [],
   "source": [
    "# System prompt building an optional chain of thought response\n",
    "system_prompt = \"\"\"You're provided with a tool that can book the vacation for a given employee 'reserve_vacation_time';\n",
    "    You can only use the tool if you have all the information from the user. \n",
    "    If the information provided by the user to call your tool \n",
    "    is incomplete, do not use the tool and instead respond by stating the \n",
    "    missing parameters in plain language.\"\"\"\n",
    "system_prompt = [{\"text\": system_prompt}]"
   ]
  },
  {
   "cell_type": "markdown",
   "id": "1ae19bb3-427b-4608-8b4e-772af8d6cbe8",
   "metadata": {},
   "source": [
    "Finally, we test our example with a sample prompt. In this instance, the model is unable to answer, because the requester did not provide information in the query that would let the model infer the `start_date` and `end_date` parameters required by the `reserve_vacation_time` tool.\n",
    "\n",
    "When this occurs, the model identifies this gap and prompts the requester by citing the values it has correctly received and the ones missing for a successful call. Notice the tool has not been called."
   ]
  },
  {
   "cell_type": "code",
   "execution_count": 375,
   "id": "70c9b440-ceee-4096-8174-7033ae109c81",
   "metadata": {},
   "outputs": [
    {
     "name": "stdout",
     "output_type": "stream",
     "text": [
      "Invoking model...\n",
      "{'ResponseMetadata': {'RequestId': '6eec9cfa-3f09-4c20-bf22-28989628a276', 'HTTPStatusCode': 200, 'HTTPHeaders': {'date': 'Wed, 14 Aug 2024 17:16:40 GMT', 'content-type': 'application/json', 'content-length': '528', 'connection': 'keep-alive', 'x-amzn-requestid': '6eec9cfa-3f09-4c20-bf22-28989628a276'}, 'RetryAttempts': 0}, 'output': {'message': {'role': 'assistant', 'content': [{'text': 'To reserve a vacation for an employee, I need the following information:\\n\\n- Employee ID (you provided this as 1)\\n- Start date for the vacation\\n- End date for the vacation\\n\\nPlease provide the start date and end date for the vacation you want to reserve, and I can then invoke the `reserve_vacation_time` tool with the complete information.'}]}}, 'stopReason': 'end_turn', 'usage': {'inputTokens': 505, 'outputTokens': 79, 'totalTokens': 584}, 'metrics': {'latencyMs': 2415}}\n",
      "Got output from model...\n",
      "{'ResponseMetadata': {'RequestId': '6eec9cfa-3f09-4c20-bf22-28989628a276', 'HTTPStatusCode': 200, 'HTTPHeaders': {'date': 'Wed, 14 Aug 2024 17:16:40 GMT', 'content-type': 'application/json', 'content-length': '528', 'connection': 'keep-alive', 'x-amzn-requestid': '6eec9cfa-3f09-4c20-bf22-28989628a276'}, 'RetryAttempts': 0}, 'output': {'message': {'role': 'assistant', 'content': [{'text': 'To reserve a vacation for an employee, I need the following information:\\n\\n- Employee ID (you provided this as 1)\\n- Start date for the vacation\\n- End date for the vacation\\n\\nPlease provide the start date and end date for the vacation you want to reserve, and I can then invoke the `reserve_vacation_time` tool with the complete information.'}]}}, 'stopReason': 'end_turn', 'usage': {'inputTokens': 505, 'outputTokens': 79, 'totalTokens': 584}, 'metrics': {'latencyMs': 2415}}\n",
      "Output:\n",
      "{'message': {'role': 'assistant', 'content': [{'text': 'To reserve a vacation for an employee, I need the following information:\\n\\n- Employee ID (you provided this as 1)\\n- Start date for the vacation\\n- End date for the vacation\\n\\nPlease provide the start date and end date for the vacation you want to reserve, and I can then invoke the `reserve_vacation_time` tool with the complete information.'}]}}\n",
      "\n",
      "Messages:\n",
      "[\n",
      "  {\n",
      "    \"role\": \"user\",\n",
      "    \"content\": [\n",
      "      {\n",
      "        \"text\": \"reserve a vacation with employee ID 1\"\n",
      "      }\n",
      "    ]\n",
      "  },\n",
      "  {\n",
      "    \"role\": \"assistant\",\n",
      "    \"content\": [\n",
      "      {\n",
      "        \"text\": \"To reserve a vacation for an employee, I need the following information:\\n\\n- Employee ID (you provided this as 1)\\n- Start date for the vacation\\n- End date for the vacation\\n\\nPlease provide the start date and end date for the vacation you want to reserve, and I can then invoke the `reserve_vacation_time` tool with the complete information.\"\n",
      "      }\n",
      "    ]\n",
      "  }\n",
      "]\n",
      "\n"
     ]
    }
   ],
   "source": [
    "# prompt to reserve a vacation for a given employee. Information is incomplete for the request.\n",
    "prompt = \"reserve a vacation with employee ID 1\"\n",
    "\n",
    "messages, output = converse(ToolsList(), prompt, system_prompt, toolConfig)\n",
    "print(f\"Output:\\n{output['output']}\\n\")\n",
    "print(f\"Messages:\\n{json.dumps(messages, indent=2, ensure_ascii=False)}\\n\")"
   ]
  },
  {
   "cell_type": "markdown",
   "id": "c95611d9-d8ec-4ebc-83aa-31068ee257ed",
   "metadata": {},
   "source": [
    "If we supply the additional parameters, the model is now able to call the tool and fulfill the intent."
   ]
  },
  {
   "cell_type": "code",
   "execution_count": 376,
   "id": "7564d925-3ca5-46ed-83b1-21b380c30c5e",
   "metadata": {},
   "outputs": [
    {
     "name": "stdout",
     "output_type": "stream",
     "text": [
      "Invoking model...\n",
      "{'ResponseMetadata': {'RequestId': 'c59ed7c7-8e37-48e5-b5c9-ba17d414e2d5', 'HTTPStatusCode': 200, 'HTTPHeaders': {'date': 'Wed, 14 Aug 2024 17:16:43 GMT', 'content-type': 'application/json', 'content-length': '414', 'connection': 'keep-alive', 'x-amzn-requestid': 'c59ed7c7-8e37-48e5-b5c9-ba17d414e2d5'}, 'RetryAttempts': 0}, 'output': {'message': {'role': 'assistant', 'content': [{'text': 'Okay, let me reserve your vacation with the provided details:'}, {'toolUse': {'toolUseId': 'tooluse_Pp6ThIoESaq3WS3hgE_N9Q', 'name': 'reserve_vacation_time', 'input': {'employee_id': '1', 'start_date': '2024-06-03', 'end_date': '2024-06-04'}}}]}}, 'stopReason': 'tool_use', 'usage': {'inputTokens': 528, 'outputTokens': 119, 'totalTokens': 647}, 'metrics': {'latencyMs': 2817}}\n",
      "Got output from model...\n",
      "Function calling - Calling tool...\n",
      "Vacation booked successfully for employee with ID 1 from 2024-06-03 00:00:00 to 2024-06-04 00:00:00.\n",
      "Function calling - Got tool response...\n",
      "Function calling - Calling model with result...\n",
      "{'ResponseMetadata': {'RequestId': '95dd5213-8b90-4ec8-b162-481c9df619dc', 'HTTPStatusCode': 200, 'HTTPHeaders': {'date': 'Wed, 14 Aug 2024 17:16:43 GMT', 'content-type': 'application/json', 'content-length': '171', 'connection': 'keep-alive', 'x-amzn-requestid': '95dd5213-8b90-4ec8-b162-481c9df619dc'}, 'RetryAttempts': 0}, 'output': {'message': {'role': 'assistant', 'content': []}}, 'stopReason': 'end_turn', 'usage': {'inputTokens': 700, 'outputTokens': 3, 'totalTokens': 703}, 'metrics': {'latencyMs': 590}}\n",
      "Output:\n",
      "{'message': {'role': 'assistant', 'content': []}}\n",
      "\n",
      "Messages:\n",
      "[\n",
      "  {\n",
      "    \"role\": \"user\",\n",
      "    \"content\": [\n",
      "      {\n",
      "        \"text\": \"reserve a vacation with employee ID 1 from the 3rd of June 2024 to the 4th of June 2024.\"\n",
      "      }\n",
      "    ]\n",
      "  },\n",
      "  {\n",
      "    \"role\": \"assistant\",\n",
      "    \"content\": [\n",
      "      {\n",
      "        \"text\": \"Okay, let me reserve your vacation with the provided details:\"\n",
      "      },\n",
      "      {\n",
      "        \"toolUse\": {\n",
      "          \"toolUseId\": \"tooluse_Pp6ThIoESaq3WS3hgE_N9Q\",\n",
      "          \"name\": \"reserve_vacation_time\",\n",
      "          \"input\": {\n",
      "            \"employee_id\": \"1\",\n",
      "            \"start_date\": \"2024-06-03\",\n",
      "            \"end_date\": \"2024-06-04\"\n",
      "          }\n",
      "        }\n",
      "      }\n",
      "    ]\n",
      "  },\n",
      "  {\n",
      "    \"role\": \"user\",\n",
      "    \"content\": [\n",
      "      {\n",
      "        \"toolResult\": {\n",
      "          \"toolUseId\": \"tooluse_Pp6ThIoESaq3WS3hgE_N9Q\",\n",
      "          \"content\": [\n",
      "            {\n",
      "              \"text\": \"\\\"Vacation booked successfully for employee with ID 1 from 2024-06-03 00:00:00 to 2024-06-04 00:00:00.\\\"\"\n",
      "            }\n",
      "          ]\n",
      "        }\n",
      "      }\n",
      "    ]\n",
      "  }\n",
      "]\n",
      "\n"
     ]
    }
   ],
   "source": [
    "# prompt to reserve a vacation for a given employee between some dates. \n",
    "prompt = \"reserve a vacation with employee ID 1 from the 3rd of June 2024 to the 4th of June 2024.\"\n",
    "\n",
    "messages, output = converse(ToolsList(), prompt, system_prompt, toolConfig)\n",
    "print(output)\n",
    "print(f\"Output:\\n{output['output']}\\n\")\n",
    "print(f\"Messages:\\n{json.dumps(messages, indent=2, ensure_ascii=False)}\\n\")"
   ]
  },
  {
   "cell_type": "markdown",
   "id": "200dea89-f910-4de1-af90-3db7be889318",
   "metadata": {},
   "source": [
    "## Increasing flexibility with Amazon Bedrock Agents"
   ]
  },
  {
   "cell_type": "markdown",
   "id": "d2231ec9-6962-4097-99d1-edf69d14df6f",
   "metadata": {},
   "source": [
    "Similar to the simple function calling model we built above, an agent helps end-users complete actions based on requester input. Agents orchestrate interactions between the model, data sources, software applications, and user conversations. Bedrock Agent can have access to **Action Groups** or **Knowledge Bases**. The later is differentiated from the former by managing the query over a large set of documents rather than calling an API more generally.\n",
    "\n",
    "In this notebook, we focus on action groups and, more specifically, return of control when the agent intends to execute an action. `boto3` has clients specific to Bedrock Agents letting us create and modify agents to streamline workflows and automate repetitive tasks."
   ]
  },
  {
   "cell_type": "code",
   "execution_count": 377,
   "id": "862883f9-33c8-47ef-bfec-ffd11876860d",
   "metadata": {},
   "outputs": [],
   "source": [
    "sts_client = boto3.client('sts')\n",
    "iam_client = boto3.client('iam')\n",
    "bedrock_agent_client = boto3.client('bedrock-agent')\n",
    "bedrock_agent_runtime_client = boto3.client('bedrock-agent-runtime')"
   ]
  },
  {
   "cell_type": "markdown",
   "id": "adbbfa6a-c431-4d80-98f6-6e756a870d09",
   "metadata": {},
   "source": [
    "Next we can set some configuration variables for the agent"
   ]
  },
  {
   "cell_type": "code",
   "execution_count": 379,
   "id": "a0ef2516-12c3-4bd2-a7cf-45b784517ca7",
   "metadata": {},
   "outputs": [],
   "source": [
    "session = boto3.session.Session()\n",
    "region = session.region_name\n",
    "account_id = sts_client.get_caller_identity()[\"Account\"]\n",
    "region, account_id\n",
    "\n",
    "# configuration variables\n",
    "suffix = f\"{region}-{account_id}\"\n",
    "agent_name = \"hr-assistant-function-roc\"\n",
    "agent_bedrock_allow_policy_name = f\"{agent_name}-ba-{suffix}\"\n",
    "agent_role_name = f'AmazonBedrockExecutionRoleForAgents_{agent_name}'"
   ]
  },
  {
   "cell_type": "markdown",
   "id": "23d2b6f0-ff7e-4a2a-b958-50e7dc532502",
   "metadata": {},
   "source": [
    "### Granting service role access \n",
    "\n",
    "Next, we attach a resource-based policy to allow Bedrock to take actions on our behalf. The following policy allows access to Bedrock's `InvokeModel` API."
   ]
  },
  {
   "cell_type": "code",
   "execution_count": 380,
   "id": "d9311bc6-715a-4311-bae4-4c822e748a7f",
   "metadata": {},
   "outputs": [],
   "source": [
    "# Create IAM policies for agent\n",
    "bedrock_agent_bedrock_allow_policy_statement = {\n",
    "    \"Version\": \"2012-10-17\",\n",
    "    \"Statement\": [\n",
    "        {\n",
    "            \"Sid\": \"AmazonBedrockAgentBedrockFoundationModelPolicy\",\n",
    "            \"Effect\": \"Allow\",\n",
    "            \"Action\": \"bedrock:InvokeModel\",\n",
    "            \"Resource\": [\n",
    "                f\"arn:aws:bedrock:{region}::foundation-model/{modelId}\"\n",
    "            ]\n",
    "        }\n",
    "    ]\n",
    "}\n",
    "\n",
    "bedrock_policy_json = json.dumps(bedrock_agent_bedrock_allow_policy_statement)\n",
    "\n",
    "agent_bedrock_policy = iam_client.create_policy(\n",
    "    PolicyName=agent_bedrock_allow_policy_name,\n",
    "    PolicyDocument=bedrock_policy_json\n",
    ")"
   ]
  },
  {
   "cell_type": "markdown",
   "id": "b592d74a-84df-48e1-bc1b-353a07493668",
   "metadata": {},
   "source": [
    "We create the trust relationship so Bedrock can assume the role with the policy we defined."
   ]
  },
  {
   "cell_type": "code",
   "execution_count": 381,
   "id": "a60a3582-a65c-493d-b744-796a4c24d8c2",
   "metadata": {},
   "outputs": [
    {
     "data": {
      "text/plain": [
       "{'ResponseMetadata': {'RequestId': '3d77c301-93fc-44d2-a5b7-193c7709d5aa',\n",
       "  'HTTPStatusCode': 200,\n",
       "  'HTTPHeaders': {'date': 'Wed, 14 Aug 2024 17:16:53 GMT',\n",
       "   'x-amzn-requestid': '3d77c301-93fc-44d2-a5b7-193c7709d5aa',\n",
       "   'content-type': 'text/xml',\n",
       "   'content-length': '212'},\n",
       "  'RetryAttempts': 0}}"
      ]
     },
     "execution_count": 381,
     "metadata": {},
     "output_type": "execute_result"
    }
   ],
   "source": [
    "import time\n",
    "\n",
    "# Create IAM Role for the agent and attach IAM policies\n",
    "assume_role_policy_document = {\n",
    "    \"Version\": \"2012-10-17\",\n",
    "    \"Statement\": [{\n",
    "          \"Effect\": \"Allow\",\n",
    "          \"Principal\": {\n",
    "            \"Service\": \"bedrock.amazonaws.com\"\n",
    "          },\n",
    "          \"Action\": \"sts:AssumeRole\"\n",
    "    }]\n",
    "}\n",
    "\n",
    "assume_role_policy_document_json = json.dumps(assume_role_policy_document)\n",
    "agent_role = iam_client.create_role(\n",
    "    RoleName=agent_role_name,\n",
    "    AssumeRolePolicyDocument=assume_role_policy_document_json\n",
    ")\n",
    "\n",
    "# Pause to make sure role is created\n",
    "time.sleep(10)\n",
    "    \n",
    "iam_client.attach_role_policy(\n",
    "    RoleName=agent_role_name,\n",
    "    PolicyArn=agent_bedrock_policy['Policy']['Arn']\n",
    ")"
   ]
  },
  {
   "cell_type": "markdown",
   "id": "6083fe88-05af-4455-9744-e9593fc784f3",
   "metadata": {},
   "source": [
    "### Creating the agent\n",
    "Once the IAM role is created, we create a new agent. To do so we use Bedrock's `create_agent`. It requires an agent name, the underlying foundation model's identifier and an instruction. You can also provide an agent description. \n",
    "\n",
    "The `instruction` provides natural language describing what the agent should do and how it should interact with users. We tailor it to reflect expected behaviour and role. The `description` is an optional parameter used to further describe what the agent does. It does not impact behaviour. It is also not exposed to the end-user prompting the agent.\n",
    "\n",
    "Bedrock Agents have functionality to help manage user sessions by storing information about a requester's interactions with the agent for a defined amount of time. `idleSessionTTLInSeconds` defines the number of seconds a given user's interactions remain active without additional activity."
   ]
  },
  {
   "cell_type": "code",
   "execution_count": 382,
   "id": "442f2d27-6a17-41cf-aa01-44f76231bcc6",
   "metadata": {},
   "outputs": [],
   "source": [
    "agent_description = \"Agent for providing HR assistance to book holidays\"\n",
    "agent_instruction = \"You are an HR agent, helping employees understand HR policies and manage vacation time\"\n",
    "idleSessionTTLInSeconds = 1800"
   ]
  },
  {
   "cell_type": "markdown",
   "id": "81bed332-b8b2-415d-bcd7-31c084a1a726",
   "metadata": {},
   "source": [
    "We create the agent using the role and parameters defined above."
   ]
  },
  {
   "cell_type": "code",
   "execution_count": null,
   "id": "6251ebaa-693d-4fee-b28c-2b0692d94ae5",
   "metadata": {
    "tags": []
   },
   "outputs": [],
   "source": [
    "# Create agent\n",
    "response = bedrock_agent_client.create_agent(\n",
    "    agentName=agent_name,\n",
    "    agentResourceRoleArn=agent_role['Role']['Arn'],\n",
    "    description=agent_description,\n",
    "    idleSessionTTLInSeconds=idleSessionTTLInSeconds,\n",
    "    foundationModel=modelId,\n",
    "    instruction=agent_instruction,\n",
    ")\n",
    "response"
   ]
  },
  {
   "cell_type": "markdown",
   "id": "55a44f69-64ae-45ce-8961-41cf4363f271",
   "metadata": {},
   "source": [
    "We store the agent id in a local variable to use it on the next steps"
   ]
  },
  {
   "cell_type": "code",
   "execution_count": 384,
   "id": "0774ea09-6ccf-476d-b2bb-c8265b614f60",
   "metadata": {
    "tags": []
   },
   "outputs": [],
   "source": [
    "agent_id = response['agent']['agentId']"
   ]
  },
  {
   "cell_type": "markdown",
   "id": "65efbf63-fbdb-4220-ab89-c7af740447ef",
   "metadata": {},
   "source": [
    "### Creating the agent Action Group with ROC\n",
    "We now create an action group, so the agent can call external functions, using [`create_agent_action_group`](https://boto3.amazonaws.com/v1/documentation/api/latest/reference/services/bedrock-agent/client/create_agent_action_group.html). We use `DRAFT` as the agent version since we have not created an agent version or alias. To inform the agent about the action group's intended purpose, we provide an action group description.\n",
    "\n",
    "In this example, we provide the Action Group functionality using a `functionSchema`. Alternatively, you can provide an `APISchema` containing the details about the OpenAPI schema.\n",
    "\n",
    "To define the functions using a function schema, we provide the `name`, `description` and `parameters` as we have done before."
   ]
  },
  {
   "cell_type": "code",
   "execution_count": 385,
   "id": "a99e5855-fe22-450b-889a-da73e44fdc30",
   "metadata": {
    "tags": []
   },
   "outputs": [],
   "source": [
    "agent_functions = [\n",
    "    # schema for the get_available_vacations_days tool\n",
    "    {\n",
    "        'name': 'get_available_vacations_days',\n",
    "        'description': 'get the number of vacations available for a certain employee',\n",
    "        'parameters': {\n",
    "            \"employee_id\": {\n",
    "                \"description\": \"the id of the employee to get the available vacations\",\n",
    "                \"required\": True,\n",
    "                \"type\": \"integer\"\n",
    "            }\n",
    "        }\n",
    "    },\n",
    "    #schema for the reserve_vacation_time tool\n",
    "    {\n",
    "        'name': 'reserve_vacation_time',\n",
    "        'description': 'reserve vacation time for a specific employee - you need all parameters to reserve vacation time',\n",
    "        'parameters': {\n",
    "            \"employee_id\": {\n",
    "                \"description\": \"the id of the employee for which time off will be reserved\",\n",
    "                \"required\": True,\n",
    "                \"type\": \"integer\"\n",
    "            },\n",
    "            \"start_date\": {\n",
    "                \"description\": \"the start date for the vacation time\",\n",
    "                \"required\": True,\n",
    "                \"type\": \"string\"\n",
    "            },\n",
    "            \"end_date\": {\n",
    "                \"description\": \"the end date for the vacation time\",\n",
    "                \"required\": True,\n",
    "                \"type\": \"string\"\n",
    "            }\n",
    "        }\n",
    "    },\n",
    "]"
   ]
  },
  {
   "cell_type": "markdown",
   "id": "587f9ff3-ba39-474e-bad9-885b5bd5b89b",
   "metadata": {},
   "source": [
    "We define the action group's name and description. In all cases, the descriptions are optional, but are used by the model to understand the context in which it should leverage a given tool. Strong descriptions will often result in a more robust and performant solution."
   ]
  },
  {
   "cell_type": "code",
   "execution_count": 386,
   "id": "5c4ab377-5b74-4783-b06d-f3cefbeb37ec",
   "metadata": {},
   "outputs": [],
   "source": [
    "agent_action_group_name = \"VacationsActionGroup\"\n",
    "agent_action_group_description = \"\"\"Actions for getting the number of available vactions days \n",
    "for an employee and book new vacations in the system\"\"\""
   ]
  },
  {
   "cell_type": "markdown",
   "id": "d8f38cf9",
   "metadata": {},
   "source": [
    "To enable return of control, we create the action group with a `customContrl` executor of `RETURN_CONTROL`. This lets the agent know that instead of executing the function, it should simply return the appropriate function and parameters. The client application is then responsible for executing the function."
   ]
  },
  {
   "cell_type": "code",
   "execution_count": 387,
   "id": "d474b3e7-8501-48ed-82d1-f8a3792227a4",
   "metadata": {
    "tags": []
   },
   "outputs": [],
   "source": [
    "# Pause to make sure agent is created\n",
    "time.sleep(30)\n",
    "\n",
    "# Now, we can configure and create an action group here:\n",
    "agent_action_group_response = bedrock_agent_client.create_agent_action_group(\n",
    "    agentId=agent_id,\n",
    "    agentVersion='DRAFT',\n",
    "    actionGroupExecutor={\n",
    "        'customControl': 'RETURN_CONTROL'\n",
    "    },\n",
    "    actionGroupName=agent_action_group_name,\n",
    "    functionSchema={\n",
    "        'functions': agent_functions\n",
    "    },\n",
    "    description=agent_action_group_description\n",
    ")"
   ]
  },
  {
   "cell_type": "markdown",
   "id": "2b3bab10-e5dc-4138-a9ff-76b2ff2ff9e6",
   "metadata": {},
   "source": [
    "We create a DRAFT version of the agent. Ensure the version is created before invoking the agent.\n"
   ]
  },
  {
   "cell_type": "code",
   "execution_count": 388,
   "id": "e7094e7f-915a-4396-8d98-c3bfee3ccf1e",
   "metadata": {
    "tags": []
   },
   "outputs": [],
   "source": [
    "## create a random id for session initiator id\n",
    "session_id:str = str(uuid.uuid1())\n",
    "agent_alias_id = \"TSTALIASID\"\n",
    "enable_trace:bool = False\n",
    "end_session:bool = False\n",
    "\n",
    "response = bedrock_agent_client.prepare_agent(\n",
    "    agentId=agent_id\n",
    ")"
   ]
  },
  {
   "cell_type": "markdown",
   "id": "80f2be3a-007e-4278-b8cc-4ffd7222234b",
   "metadata": {},
   "source": [
    "### Invoke Agent\n",
    "\n",
    "Now that we have created the agent, we use the `bedrock-agent-runtime` client to invoke it and perform some tasks with `invoke_agent`. We ask for the amount of vacation time available for a given employee, which triggers a call to the `get_available_vacations_days` tool. With ROC, the agent does not forward the request to a Lambda function for fulfillment, but instead returns the result to the requester."
   ]
  },
  {
   "cell_type": "code",
   "execution_count": 393,
   "id": "22bfea60-67fd-43ea-b7a1-7ca5668cb36f",
   "metadata": {
    "tags": []
   },
   "outputs": [],
   "source": [
    "import uuid\n",
    "\n",
    "# invoke the agent API\n",
    "agentResponse = bedrock_agent_runtime_client.invoke_agent(\n",
    "    inputText=\"how much vacation time does employee 1 have available?\",\n",
    "    agentId=agent_id,\n",
    "    agentAliasId=agent_alias_id,\n",
    "    sessionId=session_id,\n",
    "    enableTrace=enable_trace,\n",
    "    endSession=end_session\n",
    ")"
   ]
  },
  {
   "cell_type": "markdown",
   "id": "04d4fb5e-d0ba-4f8b-ada5-753b3ff4ba85",
   "metadata": {},
   "source": [
    "We parse the response to find that `employee_id` was set to 1 correctly. We then use the output to call the `get_available_vacations_days` function. This output can further utilized by the agent. This is done by passing in a dictionary for `returnControlInvocationResults` in the `sessionState` when invoking the agent as described [here](https://docs.aws.amazon.com/bedrock/latest/userguide/agents-returncontrol.html)."
   ]
  },
  {
   "cell_type": "code",
   "execution_count": 394,
   "id": "8d4d29cc-0dd5-44dd-9b29-4ebebc8148b5",
   "metadata": {},
   "outputs": [
    {
     "name": "stdout",
     "output_type": "stream",
     "text": [
      "(2,)\n",
      "Available vacation days for employed_id 1: 2\n",
      "Tool Result: 2\n"
     ]
    }
   ],
   "source": [
    "event_stream = agentResponse['completion']\n",
    "\n",
    "for event in event_stream:        \n",
    "    if 'chunk' in event:\n",
    "        data = event['chunk']['bytes']\n",
    "        print(f\"Final answer ->\\n{data.decode('utf8')}\")\n",
    "        agent_answer = data.decode('utf8')\n",
    "        end_event_received = True\n",
    "        # End event indicates that the request finished successfully\n",
    "    elif 'trace' in event:\n",
    "        print(json.dumps(event['trace'], indent=2))\n",
    "    elif 'returnControl' in event:\n",
    "        # Parse event response when returnControl\n",
    "        event = event[\"returnControl\"][\"invocationInputs\"][0][\"functionInvocationInput\"]\n",
    "        tool_name = event[\"function\"]\n",
    "        function_params = event[\"parameters\"]\n",
    "        tool_args = {}\n",
    "        for function_param in function_params:\n",
    "            tool_args[function_param[\"name\"]] = function_param[\"value\"]\n",
    "        # Call the tool and print its response\n",
    "        tool_resp = getattr(ToolsList(), tool_name)(**tool_args)\n",
    "        print(f\"Tool Result: {tool_resp}\")\n"
   ]
  },
  {
   "cell_type": "markdown",
   "id": "c4fceccf",
   "metadata": {},
   "source": [
    "ROC handles input text that cannot be resolved with available functions and prompts the requester for more information"
   ]
  },
  {
   "cell_type": "code",
   "execution_count": 407,
   "id": "d73776fd",
   "metadata": {},
   "outputs": [],
   "source": [
    "def simple_agent_roc_invoke(input_text, agent_id, agent_alias_id, session_id=None, enable_trace=False, end_session=False):\n",
    "    agentResponse = bedrock_agent_runtime_client.invoke_agent(\n",
    "        inputText=input_text,\n",
    "        agentId=agent_id,\n",
    "        agentAliasId=agent_alias_id, \n",
    "        sessionId=session_id,\n",
    "        enableTrace=enable_trace, \n",
    "        endSession= end_session\n",
    "    )\n",
    "    event_stream = agentResponse['completion']\n",
    "    try:\n",
    "         for event in event_stream:        \n",
    "            if 'chunk' in event:\n",
    "                data = event['chunk']['bytes']\n",
    "                print(f\"Final answer ->\\n{data.decode('utf8')}\")\n",
    "                agent_answer = data.decode('utf8')\n",
    "                end_event_received = True\n",
    "                # End event indicates that the request finished successfully\n",
    "            elif 'trace' in event:\n",
    "                print(json.dumps(event['trace'], indent=2))\n",
    "            elif 'returnControl' in event:\n",
    "                print(event)\n",
    "\n",
    "            else:\n",
    "                raise Exception(\"unexpected event.\", event)\n",
    "    except Exception as e:\n",
    "        raise Exception(\"unexpected event.\", e)\n"
   ]
  },
  {
   "cell_type": "markdown",
   "id": "0d814c81",
   "metadata": {},
   "source": [
    "When requesting information that has nothing to do with the agent and its available functions, the agent refuses to answer the question and acknowledges the role defined in the agent instruction."
   ]
  },
  {
   "cell_type": "code",
   "execution_count": 399,
   "id": "b041202c",
   "metadata": {},
   "outputs": [
    {
     "name": "stdout",
     "output_type": "stream",
     "text": [
      "Final answer ->\n",
      "Sorry, I cannot answer questions about who the president is or provide information outside of managing vacation time and HR policies for employees. My role is to assist with understanding HR policies and managing vacation time using the available functions.\n"
     ]
    }
   ],
   "source": [
    "# prompt with unrelated request\n",
    "simple_agent_roc_invoke(\"who is the president of the United States?\", agent_id, agent_alias_id, session_id)"
   ]
  },
  {
   "cell_type": "markdown",
   "id": "5ce27afc",
   "metadata": {},
   "source": [
    "When requesting information within the bounds of its role that should be fulfilled with the `reserve_vacation_time` tool, the model correctly identifies it should use the tool. However, the model is not supplied values for `startDate` and `endDate`, which are required by the tool. Hence, it continues by prompting the requester for a start date. Given the nature of the request, this will let it infer the end date."
   ]
  },
  {
   "cell_type": "code",
   "execution_count": 400,
   "id": "9df7dcb6",
   "metadata": {},
   "outputs": [
    {
     "name": "stdout",
     "output_type": "stream",
     "text": [
      "Final answer ->\n",
      "Okay, to reserve 2 days off for employee 2, I need you to provide the start and end dates for the vacation time. What are the start and end dates you want me to reserve for employee 2's 2 day vacation?\n"
     ]
    }
   ],
   "source": [
    "# prompt to reserve a vacation for a given employee. Incomplete request to be refused.\n",
    "simple_agent_roc_invoke(\"reserve 2 days off for employee 2\", agent_id, agent_alias_id, session_id)"
   ]
  },
  {
   "cell_type": "markdown",
   "id": "46c35a8c-d07a-4777-aa80-700585d6b3d0",
   "metadata": {},
   "source": [
    "### Replicating the results in Langchain\n",
    "\n",
    "We now replicate the results described above using Langchain.\n",
    "\n",
    "Langchain a frameworks used to orchestrate calls to LLMs. In this section, we replicate ROC functionality using Langchain abstractions and primitives. We use `ChatBedrock` to interact with the Bedrock API. Enabling `beta_use_converse_api` allows us to leverage Bedrock's Converse API."
   ]
  },
  {
   "cell_type": "code",
   "execution_count": 401,
   "id": "650aa8a9-abd9-4232-9fa4-81867e765c05",
   "metadata": {},
   "outputs": [],
   "source": [
    "from langchain_aws.chat_models.bedrock import ChatBedrock\n",
    "\n",
    "# chat model to interact with Bedrock's Converse API\n",
    "llm = ChatBedrock(\n",
    "    model_id=modelId,\n",
    "    client=bedrock,\n",
    "    beta_use_converse_api=True\n",
    ")"
   ]
  },
  {
   "cell_type": "markdown",
   "id": "ae839151-1904-4430-8eee-eb734d82fb63",
   "metadata": {},
   "source": [
    "We redefine `ToolsList` with small changes. Mainly, we replace the previous `tool` decorator defined using Pydantic with the one from the core Langchain library. We also supply a `DOCSTRING` describing what is returned by our functions."
   ]
  },
  {
   "cell_type": "code",
   "execution_count": 402,
   "id": "2154c03d-dfcd-4b55-ae29-7a27e4736a65",
   "metadata": {},
   "outputs": [],
   "source": [
    "from langchain.tools import tool\n",
    "\n",
    "class ToolsList:\n",
    "    @tool(\"get_available_vacations_days\")\n",
    "    def get_available_vacations_days(employee_id: str) -> str:\n",
    "        \"\"\"Returns the number of available vacation days\"\"\"\n",
    "        # Connect to the SQLite database\n",
    "        conn = sqlite3.connect('employee_database.db')\n",
    "        c = conn.cursor()\n",
    "        \n",
    "        if employee_id:\n",
    "        \n",
    "            # Fetch the available vacation days for the employee\n",
    "            c.execute(\"\"\"\n",
    "                SELECT employee_vacation_days_available\n",
    "                FROM vacations\n",
    "                WHERE employee_id = ?\n",
    "                ORDER BY year DESC\n",
    "                LIMIT 1\n",
    "            \"\"\", (employee_id,))\n",
    "        \n",
    "            available_vacation_days = c.fetchone()\n",
    "            print(available_vacation_days)\n",
    "            if available_vacation_days:\n",
    "                available_vacation_days = available_vacation_days[0]  # Unpack the tuple\n",
    "                print(f\"Available vacation days for employed_id {employee_id}: {available_vacation_days}\")\n",
    "                conn.close()\n",
    "                return available_vacation_days\n",
    "            else:\n",
    "                return_msg = f\"No vacation data found for employed_id {employee_id}\"\n",
    "                print(return_msg)\n",
    "                conn.close()\n",
    "                return return_msg\n",
    "        else:\n",
    "            conn.close()\n",
    "            raise Exception(f\"No employeed id provided\")\n",
    "        \n",
    "    @tool(\"reserve_vacation_time\")\n",
    "    def reserve_vacation_time(employee_id: str,\n",
    "                              start_date: str,\n",
    "                              end_date: str) -> str:\n",
    "        \"\"\"Returns a success or failure message after booking a vacation for some employee with the given start and end dateé\"\"\"\n",
    "        # Connect to the SQLite database\n",
    "        conn = sqlite3.connect('employee_database.db')\n",
    "        c = conn.cursor()\n",
    "        try:\n",
    "            # Calculate the number of vacation days\n",
    "            start_date = datetime.strptime(start_date, '%Y-%m-%d')\n",
    "            end_date = datetime.strptime(end_date, '%Y-%m-%d')\n",
    "            vacation_days = (end_date - start_date).days + 1\n",
    "    \n",
    "            # Get the current year\n",
    "            current_year = start_date.year\n",
    "    \n",
    "            # Check if the employee exists\n",
    "            c.execute(\"SELECT * FROM employees WHERE employee_id = ?\", (employee_id,))\n",
    "            employee = c.fetchone()\n",
    "            if employee is None:\n",
    "                return_msg = f\"Employee with ID {employee_id} does not exist.\"\n",
    "                print(return_msg)\n",
    "                conn.close()\n",
    "                return return_msg\n",
    "    \n",
    "            # Check if the vacation days are available for the employee in the current year\n",
    "            c.execute(\"SELECT employee_vacation_days_available FROM vacations WHERE employee_id = ? AND year = ?\", (employee_id, current_year))\n",
    "            available_days = c.fetchone()\n",
    "            if available_days is None or available_days[0] < vacation_days:\n",
    "                return_msg = f\"Employee with ID {employee_id} does not have enough vacation days available for the requested period.\"\n",
    "                print(return_msg)\n",
    "                conn.close()\n",
    "                return return_msg\n",
    "    \n",
    "            # Insert the new vacation into the planned_vacations table\n",
    "            c.execute(\"INSERT INTO planned_vacations (employee_id, vacation_start_date, vacation_end_date, vacation_days_taken) VALUES (?, ?, ?, ?)\", (employee_id, start_date, end_date, vacation_days))\n",
    "    \n",
    "            # Update the vacations table with the new vacation days taken\n",
    "            c.execute(\"UPDATE vacations SET employee_vacation_days_taken = employee_vacation_days_taken + ?, employee_vacation_days_available = employee_vacation_days_available - ? WHERE employee_id = ? AND year = ?\", (vacation_days, vacation_days, employee_id, current_year))\n",
    "    \n",
    "            conn.commit()\n",
    "            print(f\"Vacation booked successfully for employee with ID {employee_id} from {start_date} to {end_date}.\")\n",
    "            # Close the database connection\n",
    "            conn.close()\n",
    "            return f\"Vacation booked successfully for employee with ID {employee_id} from {start_date} to {end_date}.\"\n",
    "        except Exception as e:\n",
    "            conn.rollback()\n",
    "            # Close the database connection\n",
    "            conn.close()\n",
    "            raise Exception(f\"Error occurred: {e}\")"
   ]
  },
  {
   "cell_type": "markdown",
   "id": "bb439f4f-09dd-43ff-a7be-20bc663b1205",
   "metadata": {},
   "source": [
    "To enable tool use, the model needs access each tool's schema. `bind_tools` abstracts away manual steps to do this by taking a list of `BaseTool`, Pydantic classes or JSON Schemas. Each element holds information related to the tool name and input parameters. Tool calling is further covered in the Langchain [documentation](https://python.langchain.com/v0.1/docs/modules/model_io/chat/function_calling/)."
   ]
  },
  {
   "cell_type": "code",
   "execution_count": 403,
   "id": "ca990b1d-0682-4958-a74e-701c51c9b187",
   "metadata": {},
   "outputs": [],
   "source": [
    "tools_list = [ToolsList.get_available_vacations_days, ToolsList.reserve_vacation_time]\n",
    "llm_with_tools = llm.bind_tools(tools_list)"
   ]
  },
  {
   "cell_type": "markdown",
   "id": "6a53c367-1800-4b8e-ba0a-344bc8fc8e22",
   "metadata": {},
   "source": [
    "Now that the model has access to the necessary tools, we can prompt it using the `.invoke` method taking a list of `BaseMessage`. We supply the system prompt as a `SystemMessage`.\n",
    "\n",
    "When asking the model an unrelated question, the model correctly refuses to answer with `stopReason` set to `endTurn`. This indicates the model does not believe a tool can answer the request."
   ]
  },
  {
   "cell_type": "code",
   "execution_count": 404,
   "id": "187e1b50-68ce-47c0-a3a8-87865e7bf832",
   "metadata": {},
   "outputs": [
    {
     "name": "stdout",
     "output_type": "stream",
     "text": [
      "bedrock_messages: [{'role': 'user', 'content': [{'text': 'who is the president of the United States?'}]}]\n"
     ]
    },
    {
     "data": {
      "text/plain": [
       "AIMessage(content='I do not have any tools related to identifying the president of the United States. As an AI assistant without direct access to updated information about political offices, I cannot definitively answer who the current president is.', response_metadata={'ResponseMetadata': {'RequestId': '7d29bf0d-f3a8-42cc-a973-13a8c1530b82', 'HTTPStatusCode': 200, 'HTTPHeaders': {'date': 'Wed, 14 Aug 2024 17:18:25 GMT', 'content-type': 'application/json', 'content-length': '414', 'connection': 'keep-alive', 'x-amzn-requestid': '7d29bf0d-f3a8-42cc-a973-13a8c1530b82'}, 'RetryAttempts': 0}, 'stopReason': 'end_turn', 'metrics': {'latencyMs': 2022}}, id='run-4d318696-0e37-4968-8c4e-f0b831c9ba71-0', usage_metadata={'input_tokens': 429, 'output_tokens': 44, 'total_tokens': 473})"
      ]
     },
     "execution_count": 404,
     "metadata": {},
     "output_type": "execute_result"
    }
   ],
   "source": [
    "from langchain_core.messages import HumanMessage, SystemMessage\n",
    "\n",
    "system_prompt=\"\"\"You can only use the tool if you have all the information from the user. \n",
    "If the information provided by the user to call your tool \n",
    "is incomplete, do not use the tool and instead respond by stating the \n",
    "missing parameters in plain language. Set the missing parameters to MISSING. \n",
    "You can simply refuse to answer unrelated questions\"\"\"\n",
    "\n",
    "# prompt with unrelated request\n",
    "messages = [\n",
    "    SystemMessage(content=system_prompt),\n",
    "    HumanMessage(content=\"who is the president of the United States?\")\n",
    "]\n",
    "\n",
    "ai_msg = llm_with_tools.invoke(messages)\n",
    "ai_msg"
   ]
  },
  {
   "cell_type": "markdown",
   "id": "1a4d1b42-e6aa-443a-a425-26324d423467",
   "metadata": {},
   "source": [
    "When prompting the model with a relevant question where the model has all the necessary information, it returns an `AIMessage` with `stopReason` set to `tool_use` and valid values for the required parameters. In this case, `employee_id` is set to 2 for the `get_available_vacations_days` tool."
   ]
  },
  {
   "cell_type": "code",
   "execution_count": 408,
   "id": "9bbbadf1-b3ca-42a8-8b99-b3b1e8f11945",
   "metadata": {},
   "outputs": [
    {
     "name": "stdout",
     "output_type": "stream",
     "text": [
      "bedrock_messages: [{'role': 'user', 'content': [{'text': 'how many vacation days left for employee 2'}]}]\n"
     ]
    },
    {
     "data": {
      "text/plain": [
       "AIMessage(content=[{'type': 'text', 'text': 'Okay, let me check your available vacation days:'}, {'type': 'tool_use', 'name': 'get_available_vacations_days', 'input': {'employee_id': '2'}, 'id': 'tooluse_jHiq7yf6Tm6JJioaWTXqfg'}], response_metadata={'ResponseMetadata': {'RequestId': 'ed03d27b-007d-479f-9fc0-0f4c7639c533', 'HTTPStatusCode': 200, 'HTTPHeaders': {'date': 'Wed, 14 Aug 2024 21:55:01 GMT', 'content-type': 'application/json', 'content-length': '357', 'connection': 'keep-alive', 'x-amzn-requestid': 'ed03d27b-007d-479f-9fc0-0f4c7639c533'}, 'RetryAttempts': 1}, 'stopReason': 'tool_use', 'metrics': {'latencyMs': 1123}}, id='run-36fe475b-ceb6-46a9-9188-e329697ca228-0', tool_calls=[{'name': 'get_available_vacations_days', 'args': {'employee_id': '2'}, 'id': 'tooluse_jHiq7yf6Tm6JJioaWTXqfg', 'type': 'tool_call'}], usage_metadata={'input_tokens': 425, 'output_tokens': 72, 'total_tokens': 497})"
      ]
     },
     "execution_count": 408,
     "metadata": {},
     "output_type": "execute_result"
    }
   ],
   "source": [
    "# prompt to get the number of remaining vacations days. Execute tool.\n",
    "messages = [\n",
    "    SystemMessage(content=system_prompt),\n",
    "    HumanMessage(content=\"how many vacation days left for employee 2\")\n",
    "]\n",
    "\n",
    "ai_msg = llm_with_tools.invoke(messages)\n",
    "ai_msg"
   ]
  },
  {
   "cell_type": "markdown",
   "id": "211053a4-fabd-4bd8-b2b5-bc340db0ed2a",
   "metadata": {},
   "source": [
    "When prompting the model with a request that does not have all the relevant parameters required to properly call the tool, the model correctly refuses to answer and instead asks for more information. The model also sets the missing values to `MISSING` as indicated in the system prompt."
   ]
  },
  {
   "cell_type": "code",
   "execution_count": 406,
   "id": "f34447ba-b0f7-44fc-9afc-b6b0b11fcf9f",
   "metadata": {},
   "outputs": [
    {
     "name": "stdout",
     "output_type": "stream",
     "text": [
      "bedrock_messages: [{'role': 'user', 'content': [{'text': 'reserve 2 days off for employee 2'}]}]\n"
     ]
    },
    {
     "data": {
      "text/plain": [
       "AIMessage(content=[{'type': 'text', 'text': 'Okay, to reserve vacation time for an employee I will need the following parameters:'}, {'type': 'tool_use', 'name': 'reserve_vacation_time', 'input': {'employee_id': '2', 'start_date': 'MISSING', 'end_date': 'MISSING'}, 'id': 'tooluse_uao4k_r3TYWzYFcrwtK2UA'}], response_metadata={'ResponseMetadata': {'RequestId': '059f540f-49a6-4065-bfee-d49b2aa5d37c', 'HTTPStatusCode': 200, 'HTTPHeaders': {'date': 'Wed, 14 Aug 2024 17:18:29 GMT', 'content-type': 'application/json', 'content-length': '431', 'connection': 'keep-alive', 'x-amzn-requestid': '059f540f-49a6-4065-bfee-d49b2aa5d37c'}, 'RetryAttempts': 0}, 'stopReason': 'tool_use', 'metrics': {'latencyMs': 2230}}, id='run-c2336a51-1b50-4d3a-9d21-10d21fc886af-0', tool_calls=[{'name': 'reserve_vacation_time', 'args': {'employee_id': '2', 'start_date': 'MISSING', 'end_date': 'MISSING'}, 'id': 'tooluse_uao4k_r3TYWzYFcrwtK2UA', 'type': 'tool_call'}], usage_metadata={'input_tokens': 430, 'output_tokens': 115, 'total_tokens': 545})"
      ]
     },
     "execution_count": 406,
     "metadata": {},
     "output_type": "execute_result"
    }
   ],
   "source": [
    "# prompt to reserve a vacation for a given employee. Incomplete request to be refused.\n",
    "messages = [\n",
    "    SystemMessage(content=system_prompt),\n",
    "    HumanMessage(content=\"reserve 2 days off for employee 2\")\n",
    "]\n",
    "\n",
    "ai_msg = llm_with_tools.invoke(messages)\n",
    "ai_msg"
   ]
  },
  {
   "cell_type": "markdown",
   "id": "863281b5-75fc-4713-b75c-b0a64c95243c",
   "metadata": {},
   "source": [
    "In this notebook, we covered the basics of return of control (ROC) with Claude Sonnet using Bedrock models, Agents on Bedrock and the `ChatBedrock` on Langchain."
   ]
  },
  {
   "cell_type": "markdown",
   "id": "ee86a091-a966-4a3f-949d-4f72f7058c4b",
   "metadata": {},
   "source": [
    "## Clean up (optional)\n",
    "\n",
    "The next steps are optional and demonstrate how to delete our agent. To delete the agent we need to:\n",
    "\n",
    "1. update the action group to disable it\n",
    "2. delete agent action group\n",
    "4. delete agent\n",
    "6. delete the created IAM roles and policies\n"
   ]
  },
  {
   "cell_type": "code",
   "execution_count": 126,
   "id": "f4e45972-8b18-42f8-90a5-d647c02b38bb",
   "metadata": {
    "tags": []
   },
   "outputs": [],
   "source": [
    "# This is not needed, you can delete agent successfully after deleting alias only\n",
    "# Additionaly, you need to disable it first\n",
    "action_group_id = agent_action_group_response['agentActionGroup']['actionGroupId']\n",
    "action_group_name = agent_action_group_response['agentActionGroup']['actionGroupName']\n",
    "\n",
    "response = bedrock_agent_client.update_agent_action_group(\n",
    "    agentId=agent_id,\n",
    "    agentVersion='DRAFT',\n",
    "    actionGroupId= action_group_id,\n",
    "    actionGroupName=action_group_name,\n",
    "    actionGroupExecutor={\n",
    "        'customControl': 'RETURN_CONTROL'\n",
    "    },\n",
    "    functionSchema={\n",
    "        'functions': agent_functions\n",
    "    },\n",
    "    actionGroupState='DISABLED',\n",
    ")\n",
    "\n",
    "action_group_deletion = bedrock_agent_client.delete_agent_action_group(\n",
    "    agentId=agent_id,\n",
    "    agentVersion='DRAFT',\n",
    "    actionGroupId= action_group_id\n",
    ")"
   ]
  },
  {
   "cell_type": "code",
   "execution_count": 127,
   "id": "6bb1ba93-39ee-46c4-80e0-07854eb9ca33",
   "metadata": {
    "tags": []
   },
   "outputs": [],
   "source": [
    "agent_deletion = bedrock_agent_client.delete_agent(\n",
    "    agentId=agent_id\n",
    ")"
   ]
  },
  {
   "cell_type": "code",
   "execution_count": 128,
   "id": "5dc0d7e0-b867-4e16-8f85-b7c7d95469d3",
   "metadata": {
    "tags": []
   },
   "outputs": [],
   "source": [
    "# Delete IAM Roles and policies\n",
    "\n",
    "for policy in [agent_bedrock_allow_policy_name]:\n",
    "    iam_client.detach_role_policy(RoleName=agent_role_name, PolicyArn=f'arn:aws:iam::{account_id}:policy/{policy}')\n",
    "    \n",
    "for role_name in [agent_role_name]:\n",
    "    iam_client.delete_role(\n",
    "        RoleName=role_name\n",
    "    )\n",
    "\n",
    "for policy in [agent_bedrock_policy]:\n",
    "    iam_client.delete_policy(\n",
    "        PolicyArn=policy['Policy']['Arn']\n",
    ")\n"
   ]
  }
 ],
 "metadata": {
  "availableInstances": [
   {
    "_defaultOrder": 0,
    "_isFastLaunch": true,
    "category": "General purpose",
    "gpuNum": 0,
    "hideHardwareSpecs": false,
    "memoryGiB": 4,
    "name": "ml.t3.medium",
    "vcpuNum": 2
   },
   {
    "_defaultOrder": 1,
    "_isFastLaunch": false,
    "category": "General purpose",
    "gpuNum": 0,
    "hideHardwareSpecs": false,
    "memoryGiB": 8,
    "name": "ml.t3.large",
    "vcpuNum": 2
   },
   {
    "_defaultOrder": 2,
    "_isFastLaunch": false,
    "category": "General purpose",
    "gpuNum": 0,
    "hideHardwareSpecs": false,
    "memoryGiB": 16,
    "name": "ml.t3.xlarge",
    "vcpuNum": 4
   },
   {
    "_defaultOrder": 3,
    "_isFastLaunch": false,
    "category": "General purpose",
    "gpuNum": 0,
    "hideHardwareSpecs": false,
    "memoryGiB": 32,
    "name": "ml.t3.2xlarge",
    "vcpuNum": 8
   },
   {
    "_defaultOrder": 4,
    "_isFastLaunch": true,
    "category": "General purpose",
    "gpuNum": 0,
    "hideHardwareSpecs": false,
    "memoryGiB": 8,
    "name": "ml.m5.large",
    "vcpuNum": 2
   },
   {
    "_defaultOrder": 5,
    "_isFastLaunch": false,
    "category": "General purpose",
    "gpuNum": 0,
    "hideHardwareSpecs": false,
    "memoryGiB": 16,
    "name": "ml.m5.xlarge",
    "vcpuNum": 4
   },
   {
    "_defaultOrder": 6,
    "_isFastLaunch": false,
    "category": "General purpose",
    "gpuNum": 0,
    "hideHardwareSpecs": false,
    "memoryGiB": 32,
    "name": "ml.m5.2xlarge",
    "vcpuNum": 8
   },
   {
    "_defaultOrder": 7,
    "_isFastLaunch": false,
    "category": "General purpose",
    "gpuNum": 0,
    "hideHardwareSpecs": false,
    "memoryGiB": 64,
    "name": "ml.m5.4xlarge",
    "vcpuNum": 16
   },
   {
    "_defaultOrder": 8,
    "_isFastLaunch": false,
    "category": "General purpose",
    "gpuNum": 0,
    "hideHardwareSpecs": false,
    "memoryGiB": 128,
    "name": "ml.m5.8xlarge",
    "vcpuNum": 32
   },
   {
    "_defaultOrder": 9,
    "_isFastLaunch": false,
    "category": "General purpose",
    "gpuNum": 0,
    "hideHardwareSpecs": false,
    "memoryGiB": 192,
    "name": "ml.m5.12xlarge",
    "vcpuNum": 48
   },
   {
    "_defaultOrder": 10,
    "_isFastLaunch": false,
    "category": "General purpose",
    "gpuNum": 0,
    "hideHardwareSpecs": false,
    "memoryGiB": 256,
    "name": "ml.m5.16xlarge",
    "vcpuNum": 64
   },
   {
    "_defaultOrder": 11,
    "_isFastLaunch": false,
    "category": "General purpose",
    "gpuNum": 0,
    "hideHardwareSpecs": false,
    "memoryGiB": 384,
    "name": "ml.m5.24xlarge",
    "vcpuNum": 96
   },
   {
    "_defaultOrder": 12,
    "_isFastLaunch": false,
    "category": "General purpose",
    "gpuNum": 0,
    "hideHardwareSpecs": false,
    "memoryGiB": 8,
    "name": "ml.m5d.large",
    "vcpuNum": 2
   },
   {
    "_defaultOrder": 13,
    "_isFastLaunch": false,
    "category": "General purpose",
    "gpuNum": 0,
    "hideHardwareSpecs": false,
    "memoryGiB": 16,
    "name": "ml.m5d.xlarge",
    "vcpuNum": 4
   },
   {
    "_defaultOrder": 14,
    "_isFastLaunch": false,
    "category": "General purpose",
    "gpuNum": 0,
    "hideHardwareSpecs": false,
    "memoryGiB": 32,
    "name": "ml.m5d.2xlarge",
    "vcpuNum": 8
   },
   {
    "_defaultOrder": 15,
    "_isFastLaunch": false,
    "category": "General purpose",
    "gpuNum": 0,
    "hideHardwareSpecs": false,
    "memoryGiB": 64,
    "name": "ml.m5d.4xlarge",
    "vcpuNum": 16
   },
   {
    "_defaultOrder": 16,
    "_isFastLaunch": false,
    "category": "General purpose",
    "gpuNum": 0,
    "hideHardwareSpecs": false,
    "memoryGiB": 128,
    "name": "ml.m5d.8xlarge",
    "vcpuNum": 32
   },
   {
    "_defaultOrder": 17,
    "_isFastLaunch": false,
    "category": "General purpose",
    "gpuNum": 0,
    "hideHardwareSpecs": false,
    "memoryGiB": 192,
    "name": "ml.m5d.12xlarge",
    "vcpuNum": 48
   },
   {
    "_defaultOrder": 18,
    "_isFastLaunch": false,
    "category": "General purpose",
    "gpuNum": 0,
    "hideHardwareSpecs": false,
    "memoryGiB": 256,
    "name": "ml.m5d.16xlarge",
    "vcpuNum": 64
   },
   {
    "_defaultOrder": 19,
    "_isFastLaunch": false,
    "category": "General purpose",
    "gpuNum": 0,
    "hideHardwareSpecs": false,
    "memoryGiB": 384,
    "name": "ml.m5d.24xlarge",
    "vcpuNum": 96
   },
   {
    "_defaultOrder": 20,
    "_isFastLaunch": false,
    "category": "General purpose",
    "gpuNum": 0,
    "hideHardwareSpecs": true,
    "memoryGiB": 0,
    "name": "ml.geospatial.interactive",
    "supportedImageNames": [
     "sagemaker-geospatial-v1-0"
    ],
    "vcpuNum": 0
   },
   {
    "_defaultOrder": 21,
    "_isFastLaunch": true,
    "category": "Compute optimized",
    "gpuNum": 0,
    "hideHardwareSpecs": false,
    "memoryGiB": 4,
    "name": "ml.c5.large",
    "vcpuNum": 2
   },
   {
    "_defaultOrder": 22,
    "_isFastLaunch": false,
    "category": "Compute optimized",
    "gpuNum": 0,
    "hideHardwareSpecs": false,
    "memoryGiB": 8,
    "name": "ml.c5.xlarge",
    "vcpuNum": 4
   },
   {
    "_defaultOrder": 23,
    "_isFastLaunch": false,
    "category": "Compute optimized",
    "gpuNum": 0,
    "hideHardwareSpecs": false,
    "memoryGiB": 16,
    "name": "ml.c5.2xlarge",
    "vcpuNum": 8
   },
   {
    "_defaultOrder": 24,
    "_isFastLaunch": false,
    "category": "Compute optimized",
    "gpuNum": 0,
    "hideHardwareSpecs": false,
    "memoryGiB": 32,
    "name": "ml.c5.4xlarge",
    "vcpuNum": 16
   },
   {
    "_defaultOrder": 25,
    "_isFastLaunch": false,
    "category": "Compute optimized",
    "gpuNum": 0,
    "hideHardwareSpecs": false,
    "memoryGiB": 72,
    "name": "ml.c5.9xlarge",
    "vcpuNum": 36
   },
   {
    "_defaultOrder": 26,
    "_isFastLaunch": false,
    "category": "Compute optimized",
    "gpuNum": 0,
    "hideHardwareSpecs": false,
    "memoryGiB": 96,
    "name": "ml.c5.12xlarge",
    "vcpuNum": 48
   },
   {
    "_defaultOrder": 27,
    "_isFastLaunch": false,
    "category": "Compute optimized",
    "gpuNum": 0,
    "hideHardwareSpecs": false,
    "memoryGiB": 144,
    "name": "ml.c5.18xlarge",
    "vcpuNum": 72
   },
   {
    "_defaultOrder": 28,
    "_isFastLaunch": false,
    "category": "Compute optimized",
    "gpuNum": 0,
    "hideHardwareSpecs": false,
    "memoryGiB": 192,
    "name": "ml.c5.24xlarge",
    "vcpuNum": 96
   },
   {
    "_defaultOrder": 29,
    "_isFastLaunch": true,
    "category": "Accelerated computing",
    "gpuNum": 1,
    "hideHardwareSpecs": false,
    "memoryGiB": 16,
    "name": "ml.g4dn.xlarge",
    "vcpuNum": 4
   },
   {
    "_defaultOrder": 30,
    "_isFastLaunch": false,
    "category": "Accelerated computing",
    "gpuNum": 1,
    "hideHardwareSpecs": false,
    "memoryGiB": 32,
    "name": "ml.g4dn.2xlarge",
    "vcpuNum": 8
   },
   {
    "_defaultOrder": 31,
    "_isFastLaunch": false,
    "category": "Accelerated computing",
    "gpuNum": 1,
    "hideHardwareSpecs": false,
    "memoryGiB": 64,
    "name": "ml.g4dn.4xlarge",
    "vcpuNum": 16
   },
   {
    "_defaultOrder": 32,
    "_isFastLaunch": false,
    "category": "Accelerated computing",
    "gpuNum": 1,
    "hideHardwareSpecs": false,
    "memoryGiB": 128,
    "name": "ml.g4dn.8xlarge",
    "vcpuNum": 32
   },
   {
    "_defaultOrder": 33,
    "_isFastLaunch": false,
    "category": "Accelerated computing",
    "gpuNum": 4,
    "hideHardwareSpecs": false,
    "memoryGiB": 192,
    "name": "ml.g4dn.12xlarge",
    "vcpuNum": 48
   },
   {
    "_defaultOrder": 34,
    "_isFastLaunch": false,
    "category": "Accelerated computing",
    "gpuNum": 1,
    "hideHardwareSpecs": false,
    "memoryGiB": 256,
    "name": "ml.g4dn.16xlarge",
    "vcpuNum": 64
   },
   {
    "_defaultOrder": 35,
    "_isFastLaunch": false,
    "category": "Accelerated computing",
    "gpuNum": 1,
    "hideHardwareSpecs": false,
    "memoryGiB": 61,
    "name": "ml.p3.2xlarge",
    "vcpuNum": 8
   },
   {
    "_defaultOrder": 36,
    "_isFastLaunch": false,
    "category": "Accelerated computing",
    "gpuNum": 4,
    "hideHardwareSpecs": false,
    "memoryGiB": 244,
    "name": "ml.p3.8xlarge",
    "vcpuNum": 32
   },
   {
    "_defaultOrder": 37,
    "_isFastLaunch": false,
    "category": "Accelerated computing",
    "gpuNum": 8,
    "hideHardwareSpecs": false,
    "memoryGiB": 488,
    "name": "ml.p3.16xlarge",
    "vcpuNum": 64
   },
   {
    "_defaultOrder": 38,
    "_isFastLaunch": false,
    "category": "Accelerated computing",
    "gpuNum": 8,
    "hideHardwareSpecs": false,
    "memoryGiB": 768,
    "name": "ml.p3dn.24xlarge",
    "vcpuNum": 96
   },
   {
    "_defaultOrder": 39,
    "_isFastLaunch": false,
    "category": "Memory Optimized",
    "gpuNum": 0,
    "hideHardwareSpecs": false,
    "memoryGiB": 16,
    "name": "ml.r5.large",
    "vcpuNum": 2
   },
   {
    "_defaultOrder": 40,
    "_isFastLaunch": false,
    "category": "Memory Optimized",
    "gpuNum": 0,
    "hideHardwareSpecs": false,
    "memoryGiB": 32,
    "name": "ml.r5.xlarge",
    "vcpuNum": 4
   },
   {
    "_defaultOrder": 41,
    "_isFastLaunch": false,
    "category": "Memory Optimized",
    "gpuNum": 0,
    "hideHardwareSpecs": false,
    "memoryGiB": 64,
    "name": "ml.r5.2xlarge",
    "vcpuNum": 8
   },
   {
    "_defaultOrder": 42,
    "_isFastLaunch": false,
    "category": "Memory Optimized",
    "gpuNum": 0,
    "hideHardwareSpecs": false,
    "memoryGiB": 128,
    "name": "ml.r5.4xlarge",
    "vcpuNum": 16
   },
   {
    "_defaultOrder": 43,
    "_isFastLaunch": false,
    "category": "Memory Optimized",
    "gpuNum": 0,
    "hideHardwareSpecs": false,
    "memoryGiB": 256,
    "name": "ml.r5.8xlarge",
    "vcpuNum": 32
   },
   {
    "_defaultOrder": 44,
    "_isFastLaunch": false,
    "category": "Memory Optimized",
    "gpuNum": 0,
    "hideHardwareSpecs": false,
    "memoryGiB": 384,
    "name": "ml.r5.12xlarge",
    "vcpuNum": 48
   },
   {
    "_defaultOrder": 45,
    "_isFastLaunch": false,
    "category": "Memory Optimized",
    "gpuNum": 0,
    "hideHardwareSpecs": false,
    "memoryGiB": 512,
    "name": "ml.r5.16xlarge",
    "vcpuNum": 64
   },
   {
    "_defaultOrder": 46,
    "_isFastLaunch": false,
    "category": "Memory Optimized",
    "gpuNum": 0,
    "hideHardwareSpecs": false,
    "memoryGiB": 768,
    "name": "ml.r5.24xlarge",
    "vcpuNum": 96
   },
   {
    "_defaultOrder": 47,
    "_isFastLaunch": false,
    "category": "Accelerated computing",
    "gpuNum": 1,
    "hideHardwareSpecs": false,
    "memoryGiB": 16,
    "name": "ml.g5.xlarge",
    "vcpuNum": 4
   },
   {
    "_defaultOrder": 48,
    "_isFastLaunch": false,
    "category": "Accelerated computing",
    "gpuNum": 1,
    "hideHardwareSpecs": false,
    "memoryGiB": 32,
    "name": "ml.g5.2xlarge",
    "vcpuNum": 8
   },
   {
    "_defaultOrder": 49,
    "_isFastLaunch": false,
    "category": "Accelerated computing",
    "gpuNum": 1,
    "hideHardwareSpecs": false,
    "memoryGiB": 64,
    "name": "ml.g5.4xlarge",
    "vcpuNum": 16
   },
   {
    "_defaultOrder": 50,
    "_isFastLaunch": false,
    "category": "Accelerated computing",
    "gpuNum": 1,
    "hideHardwareSpecs": false,
    "memoryGiB": 128,
    "name": "ml.g5.8xlarge",
    "vcpuNum": 32
   },
   {
    "_defaultOrder": 51,
    "_isFastLaunch": false,
    "category": "Accelerated computing",
    "gpuNum": 1,
    "hideHardwareSpecs": false,
    "memoryGiB": 256,
    "name": "ml.g5.16xlarge",
    "vcpuNum": 64
   },
   {
    "_defaultOrder": 52,
    "_isFastLaunch": false,
    "category": "Accelerated computing",
    "gpuNum": 4,
    "hideHardwareSpecs": false,
    "memoryGiB": 192,
    "name": "ml.g5.12xlarge",
    "vcpuNum": 48
   },
   {
    "_defaultOrder": 53,
    "_isFastLaunch": false,
    "category": "Accelerated computing",
    "gpuNum": 4,
    "hideHardwareSpecs": false,
    "memoryGiB": 384,
    "name": "ml.g5.24xlarge",
    "vcpuNum": 96
   },
   {
    "_defaultOrder": 54,
    "_isFastLaunch": false,
    "category": "Accelerated computing",
    "gpuNum": 8,
    "hideHardwareSpecs": false,
    "memoryGiB": 768,
    "name": "ml.g5.48xlarge",
    "vcpuNum": 192
   },
   {
    "_defaultOrder": 55,
    "_isFastLaunch": false,
    "category": "Accelerated computing",
    "gpuNum": 8,
    "hideHardwareSpecs": false,
    "memoryGiB": 1152,
    "name": "ml.p4d.24xlarge",
    "vcpuNum": 96
   },
   {
    "_defaultOrder": 56,
    "_isFastLaunch": false,
    "category": "Accelerated computing",
    "gpuNum": 8,
    "hideHardwareSpecs": false,
    "memoryGiB": 1152,
    "name": "ml.p4de.24xlarge",
    "vcpuNum": 96
   },
   {
    "_defaultOrder": 57,
    "_isFastLaunch": false,
    "category": "Accelerated computing",
    "gpuNum": 0,
    "hideHardwareSpecs": false,
    "memoryGiB": 32,
    "name": "ml.trn1.2xlarge",
    "vcpuNum": 8
   },
   {
    "_defaultOrder": 58,
    "_isFastLaunch": false,
    "category": "Accelerated computing",
    "gpuNum": 0,
    "hideHardwareSpecs": false,
    "memoryGiB": 512,
    "name": "ml.trn1.32xlarge",
    "vcpuNum": 128
   },
   {
    "_defaultOrder": 59,
    "_isFastLaunch": false,
    "category": "Accelerated computing",
    "gpuNum": 0,
    "hideHardwareSpecs": false,
    "memoryGiB": 512,
    "name": "ml.trn1n.32xlarge",
    "vcpuNum": 128
   }
  ],
  "instance_type": "ml.t3.medium",
  "kernelspec": {
   "display_name": "Python 3 (ipykernel)",
   "language": "python",
   "name": "python3"
  },
  "language_info": {
   "codemirror_mode": {
    "name": "ipython",
    "version": 3
   },
   "file_extension": ".py",
   "mimetype": "text/x-python",
   "name": "python",
   "nbconvert_exporter": "python",
   "pygments_lexer": "ipython3",
   "version": "3.10.7"
  }
 },
 "nbformat": 4,
 "nbformat_minor": 5
}
