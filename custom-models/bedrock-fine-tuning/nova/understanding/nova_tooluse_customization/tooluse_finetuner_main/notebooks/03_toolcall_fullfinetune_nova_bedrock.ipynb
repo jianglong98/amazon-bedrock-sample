{
 "cells": [
  {
   "cell_type": "code",
   "execution_count": 3,
   "id": "ebe390df-3590-4df1-afbe-09c5d29737ef",
   "metadata": {
    "tags": []
   },
   "outputs": [],
   "source": [
    "# Copyright Amazon.com, Inc. or its affiliates. All Rights Reserved.\n",
    "# SPDX-License-Identifier: Apache-2.0"
   ]
  },
  {
   "cell_type": "markdown",
   "id": "308a0e04-6066-4405-8a13-8b060e552a8a",
   "metadata": {
    "tags": []
   },
   "source": [
    "# Fine-Tuning Amazon Nova models with Bedrock using API\n"
   ]
  },
  {
   "cell_type": "code",
   "execution_count": null,
   "id": "4a7c78a8-1676-491f-b107-64b6af2f19a0",
   "metadata": {
    "tags": []
   },
   "outputs": [],
   "source": [
    "! pip install -r ../requirements.txt"
   ]
  },
  {
   "cell_type": "markdown",
   "id": "77d2eaa9-4738-47a4-b580-cfe75be1ee61",
   "metadata": {},
   "source": [
    "### install the required packages"
   ]
  },
  {
   "cell_type": "code",
   "execution_count": 2,
   "id": "a882346a-ceac-4210-b8e0-114e5a2d4137",
   "metadata": {
    "tags": []
   },
   "outputs": [],
   "source": [
    "import boto3\n",
    "from botocore.config import Config\n",
    "import logging\n",
    "from enum import Enum\n",
    "import boto3\n",
    "import json\n",
    "from datetime import datetime\n",
    "import time\n"
   ]
  },
  {
   "cell_type": "markdown",
   "id": "6f0882a9-39c3-4767-82d2-1bd9915b9235",
   "metadata": {
    "tags": []
   },
   "source": [
    "### Connecting to Bedrock and list fine-tunable models "
   ]
  },
  {
   "cell_type": "code",
   "execution_count": null,
   "id": "8afb8dd6-41a5-45bb-9551-f85ad1a308f1",
   "metadata": {
    "tags": []
   },
   "outputs": [],
   "source": [
    "my_config = Config(\n",
    "    region_name = 'us-east-1',\n",
    "    retries = {\n",
    "        'max_attempts': 5,\n",
    "        'mode': 'standard'\n",
    "    }\n",
    ")\n",
    "\n",
    "bedrock = boto3.client(service_name=\"bedrock\", config=my_config)\n",
    "bedrock_runtime = boto3.client(service_name=\"bedrock-runtime\", config=my_config)\n",
    "\n",
    "\n",
    "for model in bedrock.list_foundation_models(\n",
    "    byCustomizationType=\"FINE_TUNING\")[\"modelSummaries\"]:\n",
    "    for key, value in model.items():\n",
    "        print(key, \":\", value)\n",
    "    print(\"-----\\n\")"
   ]
  },
  {
   "cell_type": "markdown",
   "id": "6546f2e9-000b-4c87-807e-2a63554bcc8c",
   "metadata": {},
   "source": [
    "### Get the data location as S3 URI"
   ]
  },
  {
   "cell_type": "code",
   "execution_count": null,
   "id": "c6072296",
   "metadata": {
    "tags": []
   },
   "outputs": [],
   "source": [
    "iam = boto3.client(\"iam\")\n",
    "YOUR_BUCKET_NAME= \"\" #put the s3 bucket name which has the data for FT\n",
    "\n",
    "train_s3_uri = f\"s3://{YOUR_BUCKET_NAME}/formatted_train_ft.jsonl\"\n",
    "val_s3_uri = f\"s3://{YOUR_BUCKET_NAME}/formatted_test_ft.jsonl\"\n",
    "output_s3_uri = f\"s3://{YOUR_BUCKET_NAME}/output/\"\n"
   ]
  },
  {
   "cell_type": "markdown",
   "id": "32a02499-ede2-4803-a00b-70af174d1f90",
   "metadata": {},
   "source": [
    "### Use/Create IAM roles (uncomment when doing the first time)"
   ]
  },
  {
   "cell_type": "code",
   "execution_count": null,
   "id": "31ea90d3-6f17-4a2c-a967-f65d11c233b0",
   "metadata": {},
   "outputs": [],
   "source": [
    "'''\n",
    "ROLE_NAME =\"\" #The IAM role that grants permissions to interact with Bedrock services.\n",
    "POLICY_NAME=\"\" #The IAM policy that defines the permissions for the role or user.\n",
    "ACCNT_NUMBER=\"\" #The AWS account ID associated with the Bedrock service usage.\n",
    "\n",
    "iam.create_role(\n",
    "    RoleName=f\"{ROLE_NAME}\", \n",
    "    AssumeRolePolicyDocument=json.dumps({\n",
    "        \"Version\": \"2012-10-17\",\n",
    "        \"Statement\": [\n",
    "            {\n",
    "                \"Effect\": \"Allow\",\n",
    "                \"Principal\": {\n",
    "                    \"Service\": \"bedrock.amazonaws.com\"\n",
    "                },\n",
    "                \"Action\": \"sts:AssumeRole\"\n",
    "            }\n",
    "        ] \n",
    "    })\n",
    ")\n",
    "iam.create_policy(\n",
    "    PolicyName=f\"{POLICY_NAME}\",\n",
    "    PolicyDocument=json.dumps({\n",
    "        \"Version\": \"2012-10-17\",\n",
    "        \"Statement\": [\n",
    "            {\n",
    "                \"Effect\": \"Allow\",\n",
    "                \"Action\": [\n",
    "                    \"s3:*\",                    \n",
    "                ],\n",
    "                \"Resource\": [\n",
    "                    \"arn:aws:s3:::tooluse-olympus-new-east1\",\n",
    "                    \"arn:aws:s3:::tooluse-olympus-new-east1/*\"\n",
    "                    \n",
    "                ],\n",
    "                \"Condition\": {\n",
    "                    \"StringEquals\": {\n",
    "                        \"aws:PrincipalAccount\": f\"{ACCNT_NUMBER}\"\n",
    "                    }\n",
    "                }\n",
    "            }\n",
    "        ]\n",
    "    }\n",
    "    )\n",
    ")\n",
    "iam.attach_role_policy(\n",
    "    RoleName= ROLE_NAME,\n",
    "    PolicyArn=f\"arn:aws:iam::{ACCNT_NUMBER}:policy/{POLICY_NAME}\"\n",
    ")\n",
    "'''"
   ]
  },
  {
   "cell_type": "code",
   "execution_count": null,
   "id": "69c14627-da0e-4142-a9d1-27cad42fc8e7",
   "metadata": {
    "tags": []
   },
   "outputs": [],
   "source": [
    "role_arn = f\"arn:aws:iam::{ACCNT_NUMBER}:role/{POLICY_NAME}\""
   ]
  },
  {
   "cell_type": "markdown",
   "id": "9c04f82b-a918-4226-bf88-3ce567e50bcc",
   "metadata": {},
   "source": [
    "## 2. Fine-tuning"
   ]
  },
  {
   "cell_type": "markdown",
   "id": "dbb85e28-aec1-46bc-aa6c-ba9b04cbc106",
   "metadata": {},
   "source": [
    "Now we can create the fine-tuning job"
   ]
  },
  {
   "cell_type": "code",
   "execution_count": null,
   "id": "cdc3af82-7cd6-44bd-bf14-e3e455c15e3a",
   "metadata": {
    "tags": []
   },
   "outputs": [],
   "source": [
    "ts = datetime.now().strftime(\"%Y-%m-%d-%H-%M-%S\")\n",
    "job_name = f\"tooluse-nova-{ts}\"\n",
    "model_name = f\"tooluse-nova-{ts}\"\n"
   ]
  },
  {
   "cell_type": "code",
   "execution_count": null,
   "id": "b4124ab3-aff1-48af-9e8a-5ce3fd1f916f",
   "metadata": {
    "tags": []
   },
   "outputs": [],
   "source": [
    "#hyperparameters\n",
    "epochs = \"1\"\n",
    "batchsize = \"1\"\n",
    "lr = \"1.00E-07\"\n",
    "warmup = \"5\""
   ]
  },
  {
   "cell_type": "code",
   "execution_count": null,
   "id": "637f54ac-b050-48ed-8502-273f6da9dd22",
   "metadata": {
    "tags": []
   },
   "outputs": [],
   "source": [
    "training_job_response = bedrock.create_model_customization_job(\n",
    "    jobName=job_name,\n",
    "    customModelName=model_name,\n",
    "    roleArn=role_arn,\n",
    "    baseModelIdentifier=\"arn:aws:bedrock:us-east-1::foundation-model/amazon.nova-micro-v1:0\"\", # change accordingly\n",
    "    trainingDataConfig={\"s3Uri\": train_s3_uri},\n",
    "    validationDataConfig={\"validators\": [{\n",
    "        \"s3Uri\": val_s3_uri\n",
    "    }]},\n",
    "    outputDataConfig={\"s3Uri\": output_s3_uri},\n",
    "    hyperParameters={'epochCount': epochs, 'batchSize': batchsize, 'learningRate': lr, 'learningRateWarmupSteps': warmup}\n",
    ")"
   ]
  },
  {
   "cell_type": "code",
   "execution_count": null,
   "id": "ad36106f-cf0b-4113-8688-7066fcfa2673",
   "metadata": {
    "tags": []
   },
   "outputs": [],
   "source": [
    "jobArn = training_job_response.get('jobArn')\n",
    "jobArn"
   ]
  },
  {
   "cell_type": "markdown",
   "id": "988e0489-c5e3-4cc7-981b-6706497c6527",
   "metadata": {},
   "source": [
    "Let's periodically check in on the progress. The trainig job's duration varies by epochs, batch size, and data size."
   ]
  },
  {
   "cell_type": "code",
   "execution_count": null,
   "id": "05386aa6-44bd-4695-b9cb-0851e5300aea",
   "metadata": {
    "scrolled": true,
    "tags": []
   },
   "outputs": [],
   "source": [
    "status = bedrock.get_model_customization_job(jobIdentifier=job_name)[\"status\"]\n",
    "\n",
    "while status == \"InProgress\":\n",
    "    print(status)\n",
    "    time.sleep(30)\n",
    "    status = bedrock.get_model_customization_job(jobIdentifier=job_name)[\"status\"]\n",
    "    \n",
    "print(status)"
   ]
  }
 ],
 "metadata": {
  "forced_instance_type": "ml.t3.medium",
  "forced_lcc_arn": "",
  "instance_type": "ml.t3.medium",
  "kernelspec": {
   "display_name": "conda_python3",
   "language": "python",
   "name": "conda_python3"
  },
  "language_info": {
   "codemirror_mode": {
    "name": "ipython",
    "version": 3
   },
   "file_extension": ".py",
   "mimetype": "text/x-python",
   "name": "python",
   "nbconvert_exporter": "python",
   "pygments_lexer": "ipython3",
   "version": "3.10.16"
  }
 },
 "nbformat": 4,
 "nbformat_minor": 5
}
